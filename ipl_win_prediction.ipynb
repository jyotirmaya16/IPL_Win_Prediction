{
  "cells": [
    {
      "cell_type": "code",
      "execution_count": 1,
      "metadata": {
        "id": "8f2xWIYV3-SN"
      },
      "outputs": [],
      "source": [
        "import pandas as pd\n",
        "import numpy as np"
      ]
    },
    {
      "cell_type": "code",
      "execution_count": 2,
      "metadata": {
        "id": "vOBrGaBq4aD-"
      },
      "outputs": [],
      "source": [
        "df1=pd.read_csv(\"matches23.csv\")\n",
        "df2=pd.read_csv(\"deliveries23.csv\")"
      ]
    },
    {
      "cell_type": "markdown",
      "metadata": {
        "id": "rRgZaRHe9R6_"
      },
      "source": [
        "Cleaning part\n"
      ]
    },
    {
      "cell_type": "code",
      "execution_count": 3,
      "metadata": {
        "colab": {
          "base_uri": "https://localhost:8080/"
        },
        "id": "BS5TTwcc4g1d",
        "outputId": "44c29ea0-afb8-4187-ed4c-864661e43d33"
      },
      "outputs": [
        {
          "data": {
            "text/plain": [
              "id                    0\n",
              "season                0\n",
              "city                 51\n",
              "date                  0\n",
              "match_type            0\n",
              "team1                 0\n",
              "team2                 0\n",
              "toss_winner           0\n",
              "toss_decision         0\n",
              "result                0\n",
              "winner                5\n",
              "win_by_runs          19\n",
              "win_by_wickets      268\n",
              "target_runs           3\n",
              "target_overs          3\n",
              "player_of_match       5\n",
              "venue                 0\n",
              "super_over            0\n",
              "method             1003\n",
              "umpire1               0\n",
              "umpire2               0\n",
              "dtype: int64"
            ]
          },
          "execution_count": 3,
          "metadata": {},
          "output_type": "execute_result"
        }
      ],
      "source": [
        "df1.isnull().sum()"
      ]
    },
    {
      "cell_type": "code",
      "execution_count": 4,
      "metadata": {
        "id": "-mGzKRKZ412O"
      },
      "outputs": [],
      "source": [
        "#i will drop the row where the city,win_by_runs,target_runs,target_overs,player_of_match\n",
        "df1=df1[(~df1[\"target_runs\"].isnull())]\n",
        "df1=df1[~(df1['city'].isnull())]\n",
        "df1=df1[~(df1['win_by_runs'].isnull())]"
      ]
    },
    {
      "cell_type": "code",
      "execution_count": 5,
      "metadata": {
        "id": "MRHs9XMK65AY"
      },
      "outputs": [],
      "source": [
        "#i will fill the null values of the \"win by wickets\"\n",
        "df1['win_by_wickets'].fillna(df1['win_by_wickets'].mode().iloc[0],inplace=True)"
      ]
    },
    {
      "cell_type": "code",
      "execution_count": 6,
      "metadata": {
        "colab": {
          "base_uri": "https://localhost:8080/"
        },
        "id": "ijXFau_U7gJX",
        "outputId": "2308b01b-c837-4e07-fa66-995488503d6b"
      },
      "outputs": [
        {
          "data": {
            "text/plain": [
              "id                   0\n",
              "season               0\n",
              "city                 0\n",
              "date                 0\n",
              "match_type           0\n",
              "team1                0\n",
              "team2                0\n",
              "toss_winner          0\n",
              "toss_decision        0\n",
              "result               0\n",
              "winner               0\n",
              "win_by_runs          0\n",
              "win_by_wickets       0\n",
              "target_runs          0\n",
              "target_overs         0\n",
              "player_of_match      0\n",
              "venue                0\n",
              "super_over           0\n",
              "method             936\n",
              "umpire1              0\n",
              "umpire2              0\n",
              "dtype: int64"
            ]
          },
          "execution_count": 6,
          "metadata": {},
          "output_type": "execute_result"
        }
      ],
      "source": [
        "df1.isnull().sum()"
      ]
    },
    {
      "cell_type": "code",
      "execution_count": 7,
      "metadata": {
        "colab": {
          "base_uri": "https://localhost:8080/"
        },
        "id": "2yXrlmlq7lq1",
        "outputId": "75098b8f-8f21-4aed-d1c5-1266cd1f0856"
      },
      "outputs": [],
      "source": [
        "#i will keep those data which have not applide \"dl\" method. i.e i will delete those row where method is d/l\n",
        "\n",
        "df1['method'].value_counts()\n",
        "df1=df1[~(df1['method'].notnull())]\n",
        "df1['method'].fillna(0,inplace=True)"
      ]
    },
    {
      "cell_type": "code",
      "execution_count": 8,
      "metadata": {
        "colab": {
          "base_uri": "https://localhost:8080/"
        },
        "id": "0ZXLlJa78Wqn",
        "outputId": "ef804c52-7c5e-42a2-96b9-5a2129331ff8"
      },
      "outputs": [
        {
          "data": {
            "text/plain": [
              "id                 0\n",
              "season             0\n",
              "city               0\n",
              "date               0\n",
              "match_type         0\n",
              "team1              0\n",
              "team2              0\n",
              "toss_winner        0\n",
              "toss_decision      0\n",
              "result             0\n",
              "winner             0\n",
              "win_by_runs        0\n",
              "win_by_wickets     0\n",
              "target_runs        0\n",
              "target_overs       0\n",
              "player_of_match    0\n",
              "venue              0\n",
              "super_over         0\n",
              "method             0\n",
              "umpire1            0\n",
              "umpire2            0\n",
              "dtype: int64"
            ]
          },
          "execution_count": 8,
          "metadata": {},
          "output_type": "execute_result"
        }
      ],
      "source": [
        "df1.isnull().sum()"
      ]
    },
    {
      "cell_type": "markdown",
      "metadata": {
        "id": "RMOIFVct-DcS"
      },
      "source": [
        "cleanig df2\n"
      ]
    },
    {
      "cell_type": "code",
      "execution_count": 9,
      "metadata": {
        "colab": {
          "base_uri": "https://localhost:8080/"
        },
        "id": "5SodghXF9YI3",
        "outputId": "8c524be4-6450-4e2b-bf51-bb96db2df065"
      },
      "outputs": [
        {
          "data": {
            "text/plain": [
              "match_id                 0\n",
              "inning                   0\n",
              "batting_team             0\n",
              "bowling_team             0\n",
              "over                     0\n",
              "ball                     0\n",
              "batter                   0\n",
              "bowler                   0\n",
              "non_striker              0\n",
              "batsman_runs             0\n",
              "extra_runs               0\n",
              "total_runs               0\n",
              "extras_type         230758\n",
              "is_wicket                0\n",
              "player_dismissed    231750\n",
              "dismissal_kind      231750\n",
              "fielder             235154\n",
              "dtype: int64"
            ]
          },
          "execution_count": 9,
          "metadata": {},
          "output_type": "execute_result"
        }
      ],
      "source": [
        "df2.isnull().sum()"
      ]
    },
    {
      "cell_type": "code",
      "execution_count": 10,
      "metadata": {
        "id": "Ggfp_aGI-Hxf"
      },
      "outputs": [],
      "source": [
        "df2['player_dismissed'].fillna(0,inplace=True)"
      ]
    },
    {
      "cell_type": "code",
      "execution_count": 11,
      "metadata": {
        "colab": {
          "base_uri": "https://localhost:8080/"
        },
        "id": "txHn4R1i9uUm",
        "outputId": "f262142b-ed7e-49c6-83d8-3f990d437ce6"
      },
      "outputs": [
        {
          "data": {
            "text/plain": [
              "player_dismissed\n",
              "0                 231750\n",
              "RG Sharma            210\n",
              "V Kohli              195\n",
              "S Dhawan             188\n",
              "RV Uthappa           180\n",
              "                   ...  \n",
              "RR Bhatkal             1\n",
              "CJ McKay               1\n",
              "V Pratap Singh         1\n",
              "Sunny Gupta            1\n",
              "DG Nalkande            1\n",
              "Name: count, Length: 603, dtype: int64"
            ]
          },
          "execution_count": 11,
          "metadata": {},
          "output_type": "execute_result"
        }
      ],
      "source": [
        "df2['player_dismissed'].value_counts()"
      ]
    },
    {
      "cell_type": "code",
      "execution_count": 12,
      "metadata": {
        "id": "ZA1ASOaI-t0P"
      },
      "outputs": [],
      "source": [
        "# convert all the text to 1 but keep the 0 as it is\n",
        "df2['player_dismissed']=df2['player_dismissed'].apply(lambda x:x if x==0 else 1)"
      ]
    },
    {
      "cell_type": "code",
      "execution_count": 13,
      "metadata": {
        "colab": {
          "base_uri": "https://localhost:8080/"
        },
        "id": "Ti5AFcEk_LOb",
        "outputId": "d7ab9570-1457-42c9-c132-5ee59d4c74c9"
      },
      "outputs": [
        {
          "data": {
            "text/plain": [
              "player_dismissed\n",
              "0    231750\n",
              "1     12067\n",
              "Name: count, dtype: int64"
            ]
          },
          "execution_count": 13,
          "metadata": {},
          "output_type": "execute_result"
        }
      ],
      "source": [
        "df2['player_dismissed'].value_counts()"
      ]
    },
    {
      "cell_type": "code",
      "execution_count": 14,
      "metadata": {
        "id": "9coMLzvs_hsi"
      },
      "outputs": [],
      "source": [
        "#i may not need the df2[['extras_type',\"dismissal_kind\",\"fielder\"]] so i keep  it intact ."
      ]
    },
    {
      "cell_type": "code",
      "execution_count": 15,
      "metadata": {
        "id": "0rLk1IujBPOP"
      },
      "outputs": [],
      "source": [
        "#lastly i drop many row from the df1 .as df1 and df2 are inter connectd. i will keep those df2['match_id'] which are in the\n",
        "#df1['id']\n",
        "df2=df2[df2['match_id'].isin(df1['id'])]"
      ]
    },
    {
      "cell_type": "markdown",
      "metadata": {
        "id": "0e1skKMuCMfh"
      },
      "source": [
        "populating new columns from the old columns for our model"
      ]
    },
    {
      "cell_type": "markdown",
      "metadata": {
        "id": "PtioGjqHIAaE"
      },
      "source": [
        "populating (total_runs)\n"
      ]
    },
    {
      "cell_type": "code",
      "execution_count": 16,
      "metadata": {
        "colab": {
          "base_uri": "https://localhost:8080/"
        },
        "id": "JMU-JGFgEma5",
        "outputId": "4bbd7b9e-fade-45fa-8790-e294486827d2"
      },
      "outputs": [
        {
          "data": {
            "text/plain": [
              "Index(['match_id', 'inning', 'batting_team', 'bowling_team', 'over', 'ball',\n",
              "       'batter', 'bowler', 'non_striker', 'batsman_runs', 'extra_runs',\n",
              "       'total_runs', 'extras_type', 'is_wicket', 'player_dismissed',\n",
              "       'dismissal_kind', 'fielder'],\n",
              "      dtype='object')"
            ]
          },
          "execution_count": 16,
          "metadata": {},
          "output_type": "execute_result"
        }
      ],
      "source": [
        "df2.columns"
      ]
    },
    {
      "cell_type": "code",
      "execution_count": 17,
      "metadata": {
        "id": "fKgfEbgxCCzr"
      },
      "outputs": [],
      "source": [
        "total_score_df=df2[['match_id','inning','total_runs']].groupby([\"match_id\",\"inning\"]).sum()\n",
        "total_score_df.reset_index(inplace=True)"
      ]
    },
    {
      "cell_type": "code",
      "execution_count": 18,
      "metadata": {
        "id": "n2GYQj6qGDeD"
      },
      "outputs": [],
      "source": [
        "#we need to find the 1st innings score so that we create a column total run for df1\n",
        "gt=total_score_df[total_score_df['inning']==1]"
      ]
    },
    {
      "cell_type": "code",
      "execution_count": 19,
      "metadata": {
        "id": "TzFobqhaGzWj"
      },
      "outputs": [],
      "source": [
        "match_df=pd.merge(df1,gt,left_on=\"id\",right_on=\"match_id\")"
      ]
    },
    {
      "cell_type": "code",
      "execution_count": 20,
      "metadata": {
        "id": "TgwlZdHkHT6Y"
      },
      "outputs": [],
      "source": [
        "match_df.drop(['match_id','inning'],axis=1,inplace=True) #we donot want match_id,innings."
      ]
    },
    {
      "cell_type": "code",
      "execution_count": 21,
      "metadata": {
        "colab": {
          "base_uri": "https://localhost:8080/",
          "height": 929
        },
        "id": "WHGvMVLlHgyI",
        "outputId": "9a2d2590-4f24-4815-b03b-f2b726b28ab3"
      },
      "outputs": [
        {
          "data": {
            "text/html": [
              "<div>\n",
              "<style scoped>\n",
              "    .dataframe tbody tr th:only-of-type {\n",
              "        vertical-align: middle;\n",
              "    }\n",
              "\n",
              "    .dataframe tbody tr th {\n",
              "        vertical-align: top;\n",
              "    }\n",
              "\n",
              "    .dataframe thead th {\n",
              "        text-align: right;\n",
              "    }\n",
              "</style>\n",
              "<table border=\"1\" class=\"dataframe\">\n",
              "  <thead>\n",
              "    <tr style=\"text-align: right;\">\n",
              "      <th></th>\n",
              "      <th>id</th>\n",
              "      <th>season</th>\n",
              "      <th>city</th>\n",
              "      <th>date</th>\n",
              "      <th>match_type</th>\n",
              "      <th>team1</th>\n",
              "      <th>team2</th>\n",
              "      <th>toss_winner</th>\n",
              "      <th>toss_decision</th>\n",
              "      <th>result</th>\n",
              "      <th>...</th>\n",
              "      <th>win_by_wickets</th>\n",
              "      <th>target_runs</th>\n",
              "      <th>target_overs</th>\n",
              "      <th>player_of_match</th>\n",
              "      <th>venue</th>\n",
              "      <th>super_over</th>\n",
              "      <th>method</th>\n",
              "      <th>umpire1</th>\n",
              "      <th>umpire2</th>\n",
              "      <th>total_runs</th>\n",
              "    </tr>\n",
              "  </thead>\n",
              "  <tbody>\n",
              "    <tr>\n",
              "      <th>0</th>\n",
              "      <td>335982</td>\n",
              "      <td>2008</td>\n",
              "      <td>Bangalore</td>\n",
              "      <td>18-04-2008</td>\n",
              "      <td>League</td>\n",
              "      <td>Royal Challengers Bangalore</td>\n",
              "      <td>Kolkata Knight Riders</td>\n",
              "      <td>Royal Challengers Bangalore</td>\n",
              "      <td>field</td>\n",
              "      <td>runs</td>\n",
              "      <td>...</td>\n",
              "      <td>0.0</td>\n",
              "      <td>223.0</td>\n",
              "      <td>20.0</td>\n",
              "      <td>BB McCullum</td>\n",
              "      <td>M Chinnaswamy Stadium</td>\n",
              "      <td>N</td>\n",
              "      <td>0</td>\n",
              "      <td>Asad Rauf</td>\n",
              "      <td>RE Koertzen</td>\n",
              "      <td>222</td>\n",
              "    </tr>\n",
              "    <tr>\n",
              "      <th>1</th>\n",
              "      <td>335983</td>\n",
              "      <td>2008</td>\n",
              "      <td>Chandigarh</td>\n",
              "      <td>19-04-2008</td>\n",
              "      <td>League</td>\n",
              "      <td>Kings XI Punjab</td>\n",
              "      <td>Chennai Super Kings</td>\n",
              "      <td>Chennai Super Kings</td>\n",
              "      <td>bat</td>\n",
              "      <td>runs</td>\n",
              "      <td>...</td>\n",
              "      <td>0.0</td>\n",
              "      <td>241.0</td>\n",
              "      <td>20.0</td>\n",
              "      <td>MEK Hussey</td>\n",
              "      <td>Punjab Cricket Association Stadium, Mohali</td>\n",
              "      <td>N</td>\n",
              "      <td>0</td>\n",
              "      <td>MR Benson</td>\n",
              "      <td>SL Shastri</td>\n",
              "      <td>240</td>\n",
              "    </tr>\n",
              "    <tr>\n",
              "      <th>2</th>\n",
              "      <td>335984</td>\n",
              "      <td>2008</td>\n",
              "      <td>Delhi</td>\n",
              "      <td>19-04-2008</td>\n",
              "      <td>League</td>\n",
              "      <td>Delhi Daredevils</td>\n",
              "      <td>Rajasthan Royals</td>\n",
              "      <td>Rajasthan Royals</td>\n",
              "      <td>bat</td>\n",
              "      <td>wickets</td>\n",
              "      <td>...</td>\n",
              "      <td>9.0</td>\n",
              "      <td>130.0</td>\n",
              "      <td>20.0</td>\n",
              "      <td>MF Maharoof</td>\n",
              "      <td>Feroz Shah Kotla</td>\n",
              "      <td>N</td>\n",
              "      <td>0</td>\n",
              "      <td>Aleem Dar</td>\n",
              "      <td>GA Pratapkumar</td>\n",
              "      <td>129</td>\n",
              "    </tr>\n",
              "    <tr>\n",
              "      <th>3</th>\n",
              "      <td>335985</td>\n",
              "      <td>2008</td>\n",
              "      <td>Mumbai</td>\n",
              "      <td>20-04-2008</td>\n",
              "      <td>League</td>\n",
              "      <td>Mumbai Indians</td>\n",
              "      <td>Royal Challengers Bangalore</td>\n",
              "      <td>Mumbai Indians</td>\n",
              "      <td>bat</td>\n",
              "      <td>wickets</td>\n",
              "      <td>...</td>\n",
              "      <td>5.0</td>\n",
              "      <td>166.0</td>\n",
              "      <td>20.0</td>\n",
              "      <td>MV Boucher</td>\n",
              "      <td>Wankhede Stadium</td>\n",
              "      <td>N</td>\n",
              "      <td>0</td>\n",
              "      <td>SJ Davis</td>\n",
              "      <td>DJ Harper</td>\n",
              "      <td>165</td>\n",
              "    </tr>\n",
              "    <tr>\n",
              "      <th>4</th>\n",
              "      <td>335986</td>\n",
              "      <td>2008</td>\n",
              "      <td>Kolkata</td>\n",
              "      <td>20-04-2008</td>\n",
              "      <td>League</td>\n",
              "      <td>Kolkata Knight Riders</td>\n",
              "      <td>Deccan Chargers</td>\n",
              "      <td>Deccan Chargers</td>\n",
              "      <td>bat</td>\n",
              "      <td>wickets</td>\n",
              "      <td>...</td>\n",
              "      <td>5.0</td>\n",
              "      <td>111.0</td>\n",
              "      <td>20.0</td>\n",
              "      <td>DJ Hussey</td>\n",
              "      <td>Eden Gardens</td>\n",
              "      <td>N</td>\n",
              "      <td>0</td>\n",
              "      <td>BF Bowden</td>\n",
              "      <td>K Hariharan</td>\n",
              "      <td>110</td>\n",
              "    </tr>\n",
              "    <tr>\n",
              "      <th>...</th>\n",
              "      <td>...</td>\n",
              "      <td>...</td>\n",
              "      <td>...</td>\n",
              "      <td>...</td>\n",
              "      <td>...</td>\n",
              "      <td>...</td>\n",
              "      <td>...</td>\n",
              "      <td>...</td>\n",
              "      <td>...</td>\n",
              "      <td>...</td>\n",
              "      <td>...</td>\n",
              "      <td>...</td>\n",
              "      <td>...</td>\n",
              "      <td>...</td>\n",
              "      <td>...</td>\n",
              "      <td>...</td>\n",
              "      <td>...</td>\n",
              "      <td>...</td>\n",
              "      <td>...</td>\n",
              "      <td>...</td>\n",
              "      <td>...</td>\n",
              "    </tr>\n",
              "    <tr>\n",
              "      <th>931</th>\n",
              "      <td>1359543</td>\n",
              "      <td>2023</td>\n",
              "      <td>Mumbai</td>\n",
              "      <td>21-05-2023</td>\n",
              "      <td>League</td>\n",
              "      <td>Sunrisers Hyderabad</td>\n",
              "      <td>Mumbai Indians</td>\n",
              "      <td>Mumbai Indians</td>\n",
              "      <td>field</td>\n",
              "      <td>wickets</td>\n",
              "      <td>...</td>\n",
              "      <td>0.0</td>\n",
              "      <td>201.0</td>\n",
              "      <td>20.0</td>\n",
              "      <td>C Green</td>\n",
              "      <td>Wankhede Stadium, Mumbai</td>\n",
              "      <td>N</td>\n",
              "      <td>0</td>\n",
              "      <td>KN Ananthapadmanabhan</td>\n",
              "      <td>RJ Tucker</td>\n",
              "      <td>200</td>\n",
              "    </tr>\n",
              "    <tr>\n",
              "      <th>932</th>\n",
              "      <td>1359544</td>\n",
              "      <td>2023</td>\n",
              "      <td>Bengaluru</td>\n",
              "      <td>21-05-2023</td>\n",
              "      <td>League</td>\n",
              "      <td>Royal Challengers Bangalore</td>\n",
              "      <td>Gujarat Titans</td>\n",
              "      <td>Gujarat Titans</td>\n",
              "      <td>field</td>\n",
              "      <td>wickets</td>\n",
              "      <td>...</td>\n",
              "      <td>0.0</td>\n",
              "      <td>198.0</td>\n",
              "      <td>20.0</td>\n",
              "      <td>Shubman Gill</td>\n",
              "      <td>M Chinnaswamy Stadium, Bengaluru</td>\n",
              "      <td>N</td>\n",
              "      <td>0</td>\n",
              "      <td>Nitin Menon</td>\n",
              "      <td>VK Sharma</td>\n",
              "      <td>197</td>\n",
              "    </tr>\n",
              "    <tr>\n",
              "      <th>933</th>\n",
              "      <td>1370350</td>\n",
              "      <td>2023</td>\n",
              "      <td>Chennai</td>\n",
              "      <td>23-05-2023</td>\n",
              "      <td>Qualifier 1</td>\n",
              "      <td>Chennai Super Kings</td>\n",
              "      <td>Gujarat Titans</td>\n",
              "      <td>Gujarat Titans</td>\n",
              "      <td>field</td>\n",
              "      <td>runs</td>\n",
              "      <td>...</td>\n",
              "      <td>0.0</td>\n",
              "      <td>173.0</td>\n",
              "      <td>20.0</td>\n",
              "      <td>RD Gaikwad</td>\n",
              "      <td>MA Chidambaram Stadium, Chepauk, Chennai</td>\n",
              "      <td>N</td>\n",
              "      <td>0</td>\n",
              "      <td>AK Chaudhary</td>\n",
              "      <td>CB Gaffaney</td>\n",
              "      <td>172</td>\n",
              "    </tr>\n",
              "    <tr>\n",
              "      <th>934</th>\n",
              "      <td>1370351</td>\n",
              "      <td>2023</td>\n",
              "      <td>Chennai</td>\n",
              "      <td>24-05-2023</td>\n",
              "      <td>Eliminator</td>\n",
              "      <td>Mumbai Indians</td>\n",
              "      <td>Lucknow Super Giants</td>\n",
              "      <td>Mumbai Indians</td>\n",
              "      <td>bat</td>\n",
              "      <td>runs</td>\n",
              "      <td>...</td>\n",
              "      <td>0.0</td>\n",
              "      <td>183.0</td>\n",
              "      <td>20.0</td>\n",
              "      <td>Akash Madhwal</td>\n",
              "      <td>MA Chidambaram Stadium, Chepauk, Chennai</td>\n",
              "      <td>N</td>\n",
              "      <td>0</td>\n",
              "      <td>BNJ Oxenford</td>\n",
              "      <td>VK Sharma</td>\n",
              "      <td>182</td>\n",
              "    </tr>\n",
              "    <tr>\n",
              "      <th>935</th>\n",
              "      <td>1370352</td>\n",
              "      <td>2023</td>\n",
              "      <td>Ahmedabad</td>\n",
              "      <td>26-05-2023</td>\n",
              "      <td>Qualifier 2</td>\n",
              "      <td>Gujarat Titans</td>\n",
              "      <td>Mumbai Indians</td>\n",
              "      <td>Mumbai Indians</td>\n",
              "      <td>field</td>\n",
              "      <td>runs</td>\n",
              "      <td>...</td>\n",
              "      <td>0.0</td>\n",
              "      <td>234.0</td>\n",
              "      <td>20.0</td>\n",
              "      <td>Shubman Gill</td>\n",
              "      <td>Narendra Modi Stadium, Ahmedabad</td>\n",
              "      <td>N</td>\n",
              "      <td>0</td>\n",
              "      <td>Nitin Menon</td>\n",
              "      <td>RJ Tucker</td>\n",
              "      <td>233</td>\n",
              "    </tr>\n",
              "  </tbody>\n",
              "</table>\n",
              "<p>936 rows × 22 columns</p>\n",
              "</div>"
            ],
            "text/plain": [
              "          id  season        city        date   match_type  \\\n",
              "0     335982    2008   Bangalore  18-04-2008       League   \n",
              "1     335983    2008  Chandigarh  19-04-2008       League   \n",
              "2     335984    2008       Delhi  19-04-2008       League   \n",
              "3     335985    2008      Mumbai  20-04-2008       League   \n",
              "4     335986    2008     Kolkata  20-04-2008       League   \n",
              "..       ...     ...         ...         ...          ...   \n",
              "931  1359543    2023      Mumbai  21-05-2023       League   \n",
              "932  1359544    2023   Bengaluru  21-05-2023       League   \n",
              "933  1370350    2023     Chennai  23-05-2023  Qualifier 1   \n",
              "934  1370351    2023     Chennai  24-05-2023   Eliminator   \n",
              "935  1370352    2023   Ahmedabad  26-05-2023  Qualifier 2   \n",
              "\n",
              "                           team1                        team2  \\\n",
              "0    Royal Challengers Bangalore        Kolkata Knight Riders   \n",
              "1                Kings XI Punjab          Chennai Super Kings   \n",
              "2               Delhi Daredevils             Rajasthan Royals   \n",
              "3                 Mumbai Indians  Royal Challengers Bangalore   \n",
              "4          Kolkata Knight Riders              Deccan Chargers   \n",
              "..                           ...                          ...   \n",
              "931          Sunrisers Hyderabad               Mumbai Indians   \n",
              "932  Royal Challengers Bangalore               Gujarat Titans   \n",
              "933          Chennai Super Kings               Gujarat Titans   \n",
              "934               Mumbai Indians         Lucknow Super Giants   \n",
              "935               Gujarat Titans               Mumbai Indians   \n",
              "\n",
              "                     toss_winner toss_decision   result  ... win_by_wickets  \\\n",
              "0    Royal Challengers Bangalore         field     runs  ...            0.0   \n",
              "1            Chennai Super Kings           bat     runs  ...            0.0   \n",
              "2               Rajasthan Royals           bat  wickets  ...            9.0   \n",
              "3                 Mumbai Indians           bat  wickets  ...            5.0   \n",
              "4                Deccan Chargers           bat  wickets  ...            5.0   \n",
              "..                           ...           ...      ...  ...            ...   \n",
              "931               Mumbai Indians         field  wickets  ...            0.0   \n",
              "932               Gujarat Titans         field  wickets  ...            0.0   \n",
              "933               Gujarat Titans         field     runs  ...            0.0   \n",
              "934               Mumbai Indians           bat     runs  ...            0.0   \n",
              "935               Mumbai Indians         field     runs  ...            0.0   \n",
              "\n",
              "     target_runs  target_overs  player_of_match  \\\n",
              "0          223.0          20.0      BB McCullum   \n",
              "1          241.0          20.0       MEK Hussey   \n",
              "2          130.0          20.0      MF Maharoof   \n",
              "3          166.0          20.0       MV Boucher   \n",
              "4          111.0          20.0        DJ Hussey   \n",
              "..           ...           ...              ...   \n",
              "931        201.0          20.0          C Green   \n",
              "932        198.0          20.0     Shubman Gill   \n",
              "933        173.0          20.0       RD Gaikwad   \n",
              "934        183.0          20.0    Akash Madhwal   \n",
              "935        234.0          20.0     Shubman Gill   \n",
              "\n",
              "                                          venue super_over method  \\\n",
              "0                         M Chinnaswamy Stadium          N      0   \n",
              "1    Punjab Cricket Association Stadium, Mohali          N      0   \n",
              "2                              Feroz Shah Kotla          N      0   \n",
              "3                              Wankhede Stadium          N      0   \n",
              "4                                  Eden Gardens          N      0   \n",
              "..                                          ...        ...    ...   \n",
              "931                    Wankhede Stadium, Mumbai          N      0   \n",
              "932            M Chinnaswamy Stadium, Bengaluru          N      0   \n",
              "933    MA Chidambaram Stadium, Chepauk, Chennai          N      0   \n",
              "934    MA Chidambaram Stadium, Chepauk, Chennai          N      0   \n",
              "935            Narendra Modi Stadium, Ahmedabad          N      0   \n",
              "\n",
              "                   umpire1         umpire2 total_runs  \n",
              "0                Asad Rauf     RE Koertzen        222  \n",
              "1                MR Benson      SL Shastri        240  \n",
              "2                Aleem Dar  GA Pratapkumar        129  \n",
              "3                 SJ Davis       DJ Harper        165  \n",
              "4                BF Bowden     K Hariharan        110  \n",
              "..                     ...             ...        ...  \n",
              "931  KN Ananthapadmanabhan       RJ Tucker        200  \n",
              "932            Nitin Menon       VK Sharma        197  \n",
              "933           AK Chaudhary     CB Gaffaney        172  \n",
              "934           BNJ Oxenford       VK Sharma        182  \n",
              "935            Nitin Menon       RJ Tucker        233  \n",
              "\n",
              "[936 rows x 22 columns]"
            ]
          },
          "execution_count": 21,
          "metadata": {},
          "output_type": "execute_result"
        }
      ],
      "source": [
        "match_df  #our main data frame"
      ]
    },
    {
      "cell_type": "markdown",
      "metadata": {
        "id": "J3m3HJgwIY8j"
      },
      "source": [
        "removing the old teams which are not playing"
      ]
    },
    {
      "cell_type": "code",
      "execution_count": 22,
      "metadata": {
        "colab": {
          "base_uri": "https://localhost:8080/"
        },
        "id": "pZHXkjCAIh8z",
        "outputId": "152f9cff-65f7-4faf-ade9-0c4e60c0d79f"
      },
      "outputs": [
        {
          "data": {
            "text/plain": [
              "array(['Royal Challengers Bangalore', 'Kings XI Punjab',\n",
              "       'Delhi Daredevils', 'Mumbai Indians', 'Kolkata Knight Riders',\n",
              "       'Rajasthan Royals', 'Deccan Chargers', 'Chennai Super Kings',\n",
              "       'Kochi Tuskers Kerala', 'Pune Warriors', 'Sunrisers Hyderabad',\n",
              "       'Gujarat Lions', 'Rising Pune Supergiants',\n",
              "       'Rising Pune Supergiant', 'Delhi Capitals', 'Punjab Kings',\n",
              "       'Lucknow Super Giants', 'Gujarat Titans'], dtype=object)"
            ]
          },
          "execution_count": 22,
          "metadata": {},
          "output_type": "execute_result"
        }
      ],
      "source": [
        "match_df['team1'].unique()"
      ]
    },
    {
      "cell_type": "code",
      "execution_count": 23,
      "metadata": {
        "colab": {
          "base_uri": "https://localhost:8080/"
        },
        "id": "LqipkI1rIxJx",
        "outputId": "701284d8-e569-4697-930f-cedddd56a934"
      },
      "outputs": [
        {
          "data": {
            "text/plain": [
              "10"
            ]
          },
          "execution_count": 23,
          "metadata": {},
          "output_type": "execute_result"
        }
      ],
      "source": [
        "ipl_team=['Royal Challengers Bangalore', 'Punjab Kings',\n",
        "          'Mumbai Indians', 'Kolkata Knight Riders',\n",
        "          'Rajasthan Royals','Chennai Super Kings','Sunrisers Hyderabad',\n",
        "          'Delhi Capitals','Lucknow Super Giants', 'Gujarat Titans']\n",
        "\n",
        "\n",
        "len(ipl_team)"
      ]
    },
    {
      "cell_type": "code",
      "execution_count": 24,
      "metadata": {
        "id": "9Bd8FJ4kKYVK"
      },
      "outputs": [],
      "source": [
        "#changing the old name to new name\n",
        "\n",
        "match_df['team1']=match_df['team1'].str.replace(\"Kings XI Punjab\",'Punjab Kings')\n",
        "match_df['team2']=match_df['team2'].str.replace(\"Kings XI Punjab\",'Punjab Kings')\n",
        "\n",
        "match_df['team1']=match_df['team1'].str.replace(\"Delhi Daredevils\",'Delhi Capitals')\n",
        "match_df['team2']=match_df['team2'].str.replace(\"Delhi Daredevils\",'Delhi Capitals')\n",
        "\n",
        "match_df['team1']=match_df['team1'].str.replace(\"Deccan Chargers\",'Sunrisers Hyderabad')\n",
        "match_df['team2']=match_df['team2'].str.replace(\"Deccan Chargers\",'Sunrisers Hyderabad')\n"
      ]
    },
    {
      "cell_type": "code",
      "execution_count": 25,
      "metadata": {
        "id": "1lgtisv2LsLa"
      },
      "outputs": [],
      "source": [
        "#removing the old team name\n",
        "match_df=match_df[match_df['team1'].isin(ipl_team)]\n",
        "match_df=match_df[match_df['team2'].isin(ipl_team)]"
      ]
    },
    {
      "cell_type": "code",
      "execution_count": 26,
      "metadata": {
        "id": "I1qvLhmYSFry"
      },
      "outputs": [],
      "source": [
        "# we need our requirement columns\n",
        "match_df.columns\n",
        "match_df=match_df[['id','city','winner','total_runs']]"
      ]
    },
    {
      "cell_type": "markdown",
      "metadata": {
        "id": "7_8VmwPbUVYs"
      },
      "source": [
        "again some cleaning the df2"
      ]
    },
    {
      "cell_type": "code",
      "execution_count": 27,
      "metadata": {
        "colab": {
          "base_uri": "https://localhost:8080/"
        },
        "id": "KM1t7z38ymVD",
        "outputId": "29cce4b9-6093-4bda-a58d-5a0cf01d9aa3"
      },
      "outputs": [
        {
          "data": {
            "text/plain": [
              "827"
            ]
          },
          "execution_count": 27,
          "metadata": {},
          "output_type": "execute_result"
        }
      ],
      "source": [
        "len(match_df['id'].unique())"
      ]
    },
    {
      "cell_type": "code",
      "execution_count": 28,
      "metadata": {
        "id": "qtFt-HvHy7TC"
      },
      "outputs": [],
      "source": [
        "df2=df2[df2['match_id'].isin(match_df['id'])]  #removing those match_id from df2 which are not in match_df"
      ]
    },
    {
      "cell_type": "code",
      "execution_count": 29,
      "metadata": {
        "colab": {
          "base_uri": "https://localhost:8080/"
        },
        "id": "WqptM4Gwz_JT",
        "outputId": "30041f7e-d45c-46a8-ef10-3c7f8b06884e"
      },
      "outputs": [
        {
          "data": {
            "text/plain": [
              "827"
            ]
          },
          "execution_count": 29,
          "metadata": {},
          "output_type": "execute_result"
        }
      ],
      "source": [
        "len(df2['match_id'].unique())"
      ]
    },
    {
      "cell_type": "code",
      "execution_count": 30,
      "metadata": {
        "colab": {
          "base_uri": "https://localhost:8080/",
          "height": 201
        },
        "id": "WxKKbwqg0Wiq",
        "outputId": "a29e213f-8c48-4a62-b19b-1223db2818ec"
      },
      "outputs": [
        {
          "data": {
            "text/html": [
              "<div>\n",
              "<style scoped>\n",
              "    .dataframe tbody tr th:only-of-type {\n",
              "        vertical-align: middle;\n",
              "    }\n",
              "\n",
              "    .dataframe tbody tr th {\n",
              "        vertical-align: top;\n",
              "    }\n",
              "\n",
              "    .dataframe thead th {\n",
              "        text-align: right;\n",
              "    }\n",
              "</style>\n",
              "<table border=\"1\" class=\"dataframe\">\n",
              "  <thead>\n",
              "    <tr style=\"text-align: right;\">\n",
              "      <th></th>\n",
              "      <th>match_id</th>\n",
              "      <th>inning</th>\n",
              "      <th>batting_team</th>\n",
              "      <th>bowling_team</th>\n",
              "      <th>over</th>\n",
              "      <th>ball</th>\n",
              "      <th>batter</th>\n",
              "      <th>bowler</th>\n",
              "      <th>non_striker</th>\n",
              "      <th>batsman_runs</th>\n",
              "      <th>extra_runs</th>\n",
              "      <th>total_runs</th>\n",
              "      <th>extras_type</th>\n",
              "      <th>is_wicket</th>\n",
              "      <th>player_dismissed</th>\n",
              "      <th>dismissal_kind</th>\n",
              "      <th>fielder</th>\n",
              "    </tr>\n",
              "  </thead>\n",
              "  <tbody>\n",
              "    <tr>\n",
              "      <th>0</th>\n",
              "      <td>335982</td>\n",
              "      <td>1</td>\n",
              "      <td>Kolkata Knight Riders</td>\n",
              "      <td>Royal Challengers Bangalore</td>\n",
              "      <td>0</td>\n",
              "      <td>1</td>\n",
              "      <td>SC Ganguly</td>\n",
              "      <td>P Kumar</td>\n",
              "      <td>BB McCullum</td>\n",
              "      <td>0</td>\n",
              "      <td>1</td>\n",
              "      <td>1</td>\n",
              "      <td>legbyes</td>\n",
              "      <td>0</td>\n",
              "      <td>0</td>\n",
              "      <td>NaN</td>\n",
              "      <td>NaN</td>\n",
              "    </tr>\n",
              "    <tr>\n",
              "      <th>1</th>\n",
              "      <td>335982</td>\n",
              "      <td>1</td>\n",
              "      <td>Kolkata Knight Riders</td>\n",
              "      <td>Royal Challengers Bangalore</td>\n",
              "      <td>0</td>\n",
              "      <td>2</td>\n",
              "      <td>BB McCullum</td>\n",
              "      <td>P Kumar</td>\n",
              "      <td>SC Ganguly</td>\n",
              "      <td>0</td>\n",
              "      <td>0</td>\n",
              "      <td>0</td>\n",
              "      <td>NaN</td>\n",
              "      <td>0</td>\n",
              "      <td>0</td>\n",
              "      <td>NaN</td>\n",
              "      <td>NaN</td>\n",
              "    </tr>\n",
              "  </tbody>\n",
              "</table>\n",
              "</div>"
            ],
            "text/plain": [
              "   match_id  inning           batting_team                 bowling_team  over  \\\n",
              "0    335982       1  Kolkata Knight Riders  Royal Challengers Bangalore     0   \n",
              "1    335982       1  Kolkata Knight Riders  Royal Challengers Bangalore     0   \n",
              "\n",
              "   ball       batter   bowler  non_striker  batsman_runs  extra_runs  \\\n",
              "0     1   SC Ganguly  P Kumar  BB McCullum             0           1   \n",
              "1     2  BB McCullum  P Kumar   SC Ganguly             0           0   \n",
              "\n",
              "   total_runs extras_type  is_wicket  player_dismissed dismissal_kind fielder  \n",
              "0           1     legbyes          0                 0            NaN     NaN  \n",
              "1           0         NaN          0                 0            NaN     NaN  "
            ]
          },
          "execution_count": 30,
          "metadata": {},
          "output_type": "execute_result"
        }
      ],
      "source": [
        "df2.head(2)"
      ]
    },
    {
      "cell_type": "code",
      "execution_count": 31,
      "metadata": {
        "colab": {
          "base_uri": "https://localhost:8080/"
        },
        "id": "Oe7LAb5QznR6",
        "outputId": "16ca4a99-9fb7-4965-b87a-98cfdb595180"
      },
      "outputs": [],
      "source": [
        "#updating the old team name to new team name in df2 also\n",
        "df2['batting_team']=df2['batting_team'].str.replace(\"Kings XI Punjab\",'Punjab Kings')\n",
        "df2['bowling_team']=df2['bowling_team'].str.replace(\"Kings XI Punjab\",'Punjab Kings')\n",
        "\n",
        "df2['batting_team']=df2['batting_team'].str.replace(\"Delhi Daredevils\",'Delhi Capitals')\n",
        "df2['bowling_team']=df2['bowling_team'].str.replace(\"Delhi Daredevils\",'Delhi Capitals')\n",
        "\n",
        "df2['batting_team']=df2['batting_team'].str.replace(\"Deccan Chargers\",'Sunrisers Hyderabad')\n",
        "df2['bowling_team']=df2['bowling_team'].str.replace(\"Deccan Chargers\",'Sunrisers Hyderabad')"
      ]
    },
    {
      "cell_type": "markdown",
      "metadata": {
        "id": "44K_yor_13Gi"
      },
      "source": [
        "ball by ball recorde we have now below"
      ]
    },
    {
      "cell_type": "code",
      "execution_count": 32,
      "metadata": {
        "colab": {
          "base_uri": "https://localhost:8080/",
          "height": 399
        },
        "id": "V4sLVbH9SgeC",
        "outputId": "d7ae89ca-d423-4e30-9dff-94e559353935"
      },
      "outputs": [
        {
          "data": {
            "text/html": [
              "<div>\n",
              "<style scoped>\n",
              "    .dataframe tbody tr th:only-of-type {\n",
              "        vertical-align: middle;\n",
              "    }\n",
              "\n",
              "    .dataframe tbody tr th {\n",
              "        vertical-align: top;\n",
              "    }\n",
              "\n",
              "    .dataframe thead th {\n",
              "        text-align: right;\n",
              "    }\n",
              "</style>\n",
              "<table border=\"1\" class=\"dataframe\">\n",
              "  <thead>\n",
              "    <tr style=\"text-align: right;\">\n",
              "      <th></th>\n",
              "      <th>city</th>\n",
              "      <th>winner</th>\n",
              "      <th>total_runs_x</th>\n",
              "      <th>match_id</th>\n",
              "      <th>inning</th>\n",
              "      <th>batting_team</th>\n",
              "      <th>bowling_team</th>\n",
              "      <th>over</th>\n",
              "      <th>ball</th>\n",
              "      <th>batter</th>\n",
              "      <th>bowler</th>\n",
              "      <th>non_striker</th>\n",
              "      <th>batsman_runs</th>\n",
              "      <th>extra_runs</th>\n",
              "      <th>total_runs_y</th>\n",
              "      <th>extras_type</th>\n",
              "      <th>is_wicket</th>\n",
              "      <th>player_dismissed</th>\n",
              "      <th>dismissal_kind</th>\n",
              "      <th>fielder</th>\n",
              "    </tr>\n",
              "  </thead>\n",
              "  <tbody>\n",
              "    <tr>\n",
              "      <th>124</th>\n",
              "      <td>Bangalore</td>\n",
              "      <td>Kolkata Knight Riders</td>\n",
              "      <td>222</td>\n",
              "      <td>335982</td>\n",
              "      <td>2</td>\n",
              "      <td>Royal Challengers Bangalore</td>\n",
              "      <td>Kolkata Knight Riders</td>\n",
              "      <td>0</td>\n",
              "      <td>1</td>\n",
              "      <td>R Dravid</td>\n",
              "      <td>AB Dinda</td>\n",
              "      <td>W Jaffer</td>\n",
              "      <td>1</td>\n",
              "      <td>0</td>\n",
              "      <td>1</td>\n",
              "      <td>NaN</td>\n",
              "      <td>0</td>\n",
              "      <td>0</td>\n",
              "      <td>NaN</td>\n",
              "      <td>NaN</td>\n",
              "    </tr>\n",
              "    <tr>\n",
              "      <th>125</th>\n",
              "      <td>Bangalore</td>\n",
              "      <td>Kolkata Knight Riders</td>\n",
              "      <td>222</td>\n",
              "      <td>335982</td>\n",
              "      <td>2</td>\n",
              "      <td>Royal Challengers Bangalore</td>\n",
              "      <td>Kolkata Knight Riders</td>\n",
              "      <td>0</td>\n",
              "      <td>2</td>\n",
              "      <td>W Jaffer</td>\n",
              "      <td>AB Dinda</td>\n",
              "      <td>R Dravid</td>\n",
              "      <td>0</td>\n",
              "      <td>1</td>\n",
              "      <td>1</td>\n",
              "      <td>wides</td>\n",
              "      <td>0</td>\n",
              "      <td>0</td>\n",
              "      <td>NaN</td>\n",
              "      <td>NaN</td>\n",
              "    </tr>\n",
              "    <tr>\n",
              "      <th>126</th>\n",
              "      <td>Bangalore</td>\n",
              "      <td>Kolkata Knight Riders</td>\n",
              "      <td>222</td>\n",
              "      <td>335982</td>\n",
              "      <td>2</td>\n",
              "      <td>Royal Challengers Bangalore</td>\n",
              "      <td>Kolkata Knight Riders</td>\n",
              "      <td>0</td>\n",
              "      <td>3</td>\n",
              "      <td>W Jaffer</td>\n",
              "      <td>AB Dinda</td>\n",
              "      <td>R Dravid</td>\n",
              "      <td>0</td>\n",
              "      <td>0</td>\n",
              "      <td>0</td>\n",
              "      <td>NaN</td>\n",
              "      <td>0</td>\n",
              "      <td>0</td>\n",
              "      <td>NaN</td>\n",
              "      <td>NaN</td>\n",
              "    </tr>\n",
              "    <tr>\n",
              "      <th>127</th>\n",
              "      <td>Bangalore</td>\n",
              "      <td>Kolkata Knight Riders</td>\n",
              "      <td>222</td>\n",
              "      <td>335982</td>\n",
              "      <td>2</td>\n",
              "      <td>Royal Challengers Bangalore</td>\n",
              "      <td>Kolkata Knight Riders</td>\n",
              "      <td>0</td>\n",
              "      <td>4</td>\n",
              "      <td>W Jaffer</td>\n",
              "      <td>AB Dinda</td>\n",
              "      <td>R Dravid</td>\n",
              "      <td>1</td>\n",
              "      <td>0</td>\n",
              "      <td>1</td>\n",
              "      <td>NaN</td>\n",
              "      <td>0</td>\n",
              "      <td>0</td>\n",
              "      <td>NaN</td>\n",
              "      <td>NaN</td>\n",
              "    </tr>\n",
              "    <tr>\n",
              "      <th>128</th>\n",
              "      <td>Bangalore</td>\n",
              "      <td>Kolkata Knight Riders</td>\n",
              "      <td>222</td>\n",
              "      <td>335982</td>\n",
              "      <td>2</td>\n",
              "      <td>Royal Challengers Bangalore</td>\n",
              "      <td>Kolkata Knight Riders</td>\n",
              "      <td>0</td>\n",
              "      <td>5</td>\n",
              "      <td>R Dravid</td>\n",
              "      <td>AB Dinda</td>\n",
              "      <td>W Jaffer</td>\n",
              "      <td>1</td>\n",
              "      <td>0</td>\n",
              "      <td>1</td>\n",
              "      <td>NaN</td>\n",
              "      <td>0</td>\n",
              "      <td>0</td>\n",
              "      <td>NaN</td>\n",
              "      <td>NaN</td>\n",
              "    </tr>\n",
              "  </tbody>\n",
              "</table>\n",
              "</div>"
            ],
            "text/plain": [
              "          city                 winner  total_runs_x  match_id  inning  \\\n",
              "124  Bangalore  Kolkata Knight Riders           222    335982       2   \n",
              "125  Bangalore  Kolkata Knight Riders           222    335982       2   \n",
              "126  Bangalore  Kolkata Knight Riders           222    335982       2   \n",
              "127  Bangalore  Kolkata Knight Riders           222    335982       2   \n",
              "128  Bangalore  Kolkata Knight Riders           222    335982       2   \n",
              "\n",
              "                    batting_team           bowling_team  over  ball    batter  \\\n",
              "124  Royal Challengers Bangalore  Kolkata Knight Riders     0     1  R Dravid   \n",
              "125  Royal Challengers Bangalore  Kolkata Knight Riders     0     2  W Jaffer   \n",
              "126  Royal Challengers Bangalore  Kolkata Knight Riders     0     3  W Jaffer   \n",
              "127  Royal Challengers Bangalore  Kolkata Knight Riders     0     4  W Jaffer   \n",
              "128  Royal Challengers Bangalore  Kolkata Knight Riders     0     5  R Dravid   \n",
              "\n",
              "       bowler non_striker  batsman_runs  extra_runs  total_runs_y extras_type  \\\n",
              "124  AB Dinda    W Jaffer             1           0             1         NaN   \n",
              "125  AB Dinda    R Dravid             0           1             1       wides   \n",
              "126  AB Dinda    R Dravid             0           0             0         NaN   \n",
              "127  AB Dinda    R Dravid             1           0             1         NaN   \n",
              "128  AB Dinda    W Jaffer             1           0             1         NaN   \n",
              "\n",
              "     is_wicket  player_dismissed dismissal_kind fielder  \n",
              "124          0                 0            NaN     NaN  \n",
              "125          0                 0            NaN     NaN  \n",
              "126          0                 0            NaN     NaN  \n",
              "127          0                 0            NaN     NaN  \n",
              "128          0                 0            NaN     NaN  "
            ]
          },
          "execution_count": 32,
          "metadata": {},
          "output_type": "execute_result"
        }
      ],
      "source": [
        "#joining the match_df to the df2\n",
        "delivery_df=pd.merge(match_df,df2,right_on='match_id',left_on='id')\n",
        "delivery_df.drop(['id'],axis=1,inplace=True) #we have 2 id columns so i remove one of them\n",
        "delivery_df=delivery_df[delivery_df['inning']==2]\n",
        "delivery_df.head(5)"
      ]
    },
    {
      "cell_type": "code",
      "execution_count": 33,
      "metadata": {
        "id": "tAzzj4_l-lCV"
      },
      "outputs": [],
      "source": [
        "# chenge city name Bengaluru  to Bangalore  and Navi Mumbai to Mumbai\n",
        "delivery_df['city'].replace({'Bengaluru':'Bangalore'},inplace=True)\n",
        "delivery_df['city'].replace({\"Navi Mumbai\":'Mumbai'},inplace=True)"
      ]
    },
    {
      "cell_type": "markdown",
      "metadata": {
        "id": "Kkgbeza9VbnD"
      },
      "source": [
        "calculation for new column (runs left)"
      ]
    },
    {
      "cell_type": "code",
      "execution_count": 34,
      "metadata": {
        "id": "hV3hjOA8VbOz"
      },
      "outputs": [],
      "source": [
        "delivery_df['current_socre']=delivery_df[['match_id','total_runs_y']].groupby('match_id').cumsum()"
      ]
    },
    {
      "cell_type": "code",
      "execution_count": 35,
      "metadata": {
        "colab": {
          "base_uri": "https://localhost:8080/",
          "height": 704
        },
        "id": "TKMA7DpEWWtM",
        "outputId": "e5594554-dc30-46d2-ea4b-754f90b15689"
      },
      "outputs": [
        {
          "data": {
            "text/html": [
              "<div>\n",
              "<style scoped>\n",
              "    .dataframe tbody tr th:only-of-type {\n",
              "        vertical-align: middle;\n",
              "    }\n",
              "\n",
              "    .dataframe tbody tr th {\n",
              "        vertical-align: top;\n",
              "    }\n",
              "\n",
              "    .dataframe thead th {\n",
              "        text-align: right;\n",
              "    }\n",
              "</style>\n",
              "<table border=\"1\" class=\"dataframe\">\n",
              "  <thead>\n",
              "    <tr style=\"text-align: right;\">\n",
              "      <th></th>\n",
              "      <th>city</th>\n",
              "      <th>winner</th>\n",
              "      <th>total_runs_x</th>\n",
              "      <th>match_id</th>\n",
              "      <th>inning</th>\n",
              "      <th>batting_team</th>\n",
              "      <th>bowling_team</th>\n",
              "      <th>over</th>\n",
              "      <th>ball</th>\n",
              "      <th>batter</th>\n",
              "      <th>...</th>\n",
              "      <th>non_striker</th>\n",
              "      <th>batsman_runs</th>\n",
              "      <th>extra_runs</th>\n",
              "      <th>total_runs_y</th>\n",
              "      <th>extras_type</th>\n",
              "      <th>is_wicket</th>\n",
              "      <th>player_dismissed</th>\n",
              "      <th>dismissal_kind</th>\n",
              "      <th>fielder</th>\n",
              "      <th>current_socre</th>\n",
              "    </tr>\n",
              "  </thead>\n",
              "  <tbody>\n",
              "    <tr>\n",
              "      <th>124</th>\n",
              "      <td>Bangalore</td>\n",
              "      <td>Kolkata Knight Riders</td>\n",
              "      <td>222</td>\n",
              "      <td>335982</td>\n",
              "      <td>2</td>\n",
              "      <td>Royal Challengers Bangalore</td>\n",
              "      <td>Kolkata Knight Riders</td>\n",
              "      <td>0</td>\n",
              "      <td>1</td>\n",
              "      <td>R Dravid</td>\n",
              "      <td>...</td>\n",
              "      <td>W Jaffer</td>\n",
              "      <td>1</td>\n",
              "      <td>0</td>\n",
              "      <td>1</td>\n",
              "      <td>NaN</td>\n",
              "      <td>0</td>\n",
              "      <td>0</td>\n",
              "      <td>NaN</td>\n",
              "      <td>NaN</td>\n",
              "      <td>1</td>\n",
              "    </tr>\n",
              "    <tr>\n",
              "      <th>125</th>\n",
              "      <td>Bangalore</td>\n",
              "      <td>Kolkata Knight Riders</td>\n",
              "      <td>222</td>\n",
              "      <td>335982</td>\n",
              "      <td>2</td>\n",
              "      <td>Royal Challengers Bangalore</td>\n",
              "      <td>Kolkata Knight Riders</td>\n",
              "      <td>0</td>\n",
              "      <td>2</td>\n",
              "      <td>W Jaffer</td>\n",
              "      <td>...</td>\n",
              "      <td>R Dravid</td>\n",
              "      <td>0</td>\n",
              "      <td>1</td>\n",
              "      <td>1</td>\n",
              "      <td>wides</td>\n",
              "      <td>0</td>\n",
              "      <td>0</td>\n",
              "      <td>NaN</td>\n",
              "      <td>NaN</td>\n",
              "      <td>2</td>\n",
              "    </tr>\n",
              "    <tr>\n",
              "      <th>126</th>\n",
              "      <td>Bangalore</td>\n",
              "      <td>Kolkata Knight Riders</td>\n",
              "      <td>222</td>\n",
              "      <td>335982</td>\n",
              "      <td>2</td>\n",
              "      <td>Royal Challengers Bangalore</td>\n",
              "      <td>Kolkata Knight Riders</td>\n",
              "      <td>0</td>\n",
              "      <td>3</td>\n",
              "      <td>W Jaffer</td>\n",
              "      <td>...</td>\n",
              "      <td>R Dravid</td>\n",
              "      <td>0</td>\n",
              "      <td>0</td>\n",
              "      <td>0</td>\n",
              "      <td>NaN</td>\n",
              "      <td>0</td>\n",
              "      <td>0</td>\n",
              "      <td>NaN</td>\n",
              "      <td>NaN</td>\n",
              "      <td>2</td>\n",
              "    </tr>\n",
              "    <tr>\n",
              "      <th>127</th>\n",
              "      <td>Bangalore</td>\n",
              "      <td>Kolkata Knight Riders</td>\n",
              "      <td>222</td>\n",
              "      <td>335982</td>\n",
              "      <td>2</td>\n",
              "      <td>Royal Challengers Bangalore</td>\n",
              "      <td>Kolkata Knight Riders</td>\n",
              "      <td>0</td>\n",
              "      <td>4</td>\n",
              "      <td>W Jaffer</td>\n",
              "      <td>...</td>\n",
              "      <td>R Dravid</td>\n",
              "      <td>1</td>\n",
              "      <td>0</td>\n",
              "      <td>1</td>\n",
              "      <td>NaN</td>\n",
              "      <td>0</td>\n",
              "      <td>0</td>\n",
              "      <td>NaN</td>\n",
              "      <td>NaN</td>\n",
              "      <td>3</td>\n",
              "    </tr>\n",
              "    <tr>\n",
              "      <th>128</th>\n",
              "      <td>Bangalore</td>\n",
              "      <td>Kolkata Knight Riders</td>\n",
              "      <td>222</td>\n",
              "      <td>335982</td>\n",
              "      <td>2</td>\n",
              "      <td>Royal Challengers Bangalore</td>\n",
              "      <td>Kolkata Knight Riders</td>\n",
              "      <td>0</td>\n",
              "      <td>5</td>\n",
              "      <td>R Dravid</td>\n",
              "      <td>...</td>\n",
              "      <td>W Jaffer</td>\n",
              "      <td>1</td>\n",
              "      <td>0</td>\n",
              "      <td>1</td>\n",
              "      <td>NaN</td>\n",
              "      <td>0</td>\n",
              "      <td>0</td>\n",
              "      <td>NaN</td>\n",
              "      <td>NaN</td>\n",
              "      <td>4</td>\n",
              "    </tr>\n",
              "    <tr>\n",
              "      <th>...</th>\n",
              "      <td>...</td>\n",
              "      <td>...</td>\n",
              "      <td>...</td>\n",
              "      <td>...</td>\n",
              "      <td>...</td>\n",
              "      <td>...</td>\n",
              "      <td>...</td>\n",
              "      <td>...</td>\n",
              "      <td>...</td>\n",
              "      <td>...</td>\n",
              "      <td>...</td>\n",
              "      <td>...</td>\n",
              "      <td>...</td>\n",
              "      <td>...</td>\n",
              "      <td>...</td>\n",
              "      <td>...</td>\n",
              "      <td>...</td>\n",
              "      <td>...</td>\n",
              "      <td>...</td>\n",
              "      <td>...</td>\n",
              "      <td>...</td>\n",
              "    </tr>\n",
              "    <tr>\n",
              "      <th>198464</th>\n",
              "      <td>Ahmedabad</td>\n",
              "      <td>Gujarat Titans</td>\n",
              "      <td>233</td>\n",
              "      <td>1370352</td>\n",
              "      <td>2</td>\n",
              "      <td>Mumbai Indians</td>\n",
              "      <td>Gujarat Titans</td>\n",
              "      <td>17</td>\n",
              "      <td>4</td>\n",
              "      <td>JP Behrendorff</td>\n",
              "      <td>...</td>\n",
              "      <td>K Kartikeya</td>\n",
              "      <td>1</td>\n",
              "      <td>0</td>\n",
              "      <td>1</td>\n",
              "      <td>NaN</td>\n",
              "      <td>0</td>\n",
              "      <td>0</td>\n",
              "      <td>NaN</td>\n",
              "      <td>NaN</td>\n",
              "      <td>166</td>\n",
              "    </tr>\n",
              "    <tr>\n",
              "      <th>198465</th>\n",
              "      <td>Ahmedabad</td>\n",
              "      <td>Gujarat Titans</td>\n",
              "      <td>233</td>\n",
              "      <td>1370352</td>\n",
              "      <td>2</td>\n",
              "      <td>Mumbai Indians</td>\n",
              "      <td>Gujarat Titans</td>\n",
              "      <td>17</td>\n",
              "      <td>5</td>\n",
              "      <td>K Kartikeya</td>\n",
              "      <td>...</td>\n",
              "      <td>JP Behrendorff</td>\n",
              "      <td>4</td>\n",
              "      <td>0</td>\n",
              "      <td>4</td>\n",
              "      <td>NaN</td>\n",
              "      <td>0</td>\n",
              "      <td>0</td>\n",
              "      <td>NaN</td>\n",
              "      <td>NaN</td>\n",
              "      <td>170</td>\n",
              "    </tr>\n",
              "    <tr>\n",
              "      <th>198466</th>\n",
              "      <td>Ahmedabad</td>\n",
              "      <td>Gujarat Titans</td>\n",
              "      <td>233</td>\n",
              "      <td>1370352</td>\n",
              "      <td>2</td>\n",
              "      <td>Mumbai Indians</td>\n",
              "      <td>Gujarat Titans</td>\n",
              "      <td>17</td>\n",
              "      <td>6</td>\n",
              "      <td>K Kartikeya</td>\n",
              "      <td>...</td>\n",
              "      <td>JP Behrendorff</td>\n",
              "      <td>0</td>\n",
              "      <td>0</td>\n",
              "      <td>0</td>\n",
              "      <td>NaN</td>\n",
              "      <td>0</td>\n",
              "      <td>0</td>\n",
              "      <td>NaN</td>\n",
              "      <td>NaN</td>\n",
              "      <td>170</td>\n",
              "    </tr>\n",
              "    <tr>\n",
              "      <th>198467</th>\n",
              "      <td>Ahmedabad</td>\n",
              "      <td>Gujarat Titans</td>\n",
              "      <td>233</td>\n",
              "      <td>1370352</td>\n",
              "      <td>2</td>\n",
              "      <td>Mumbai Indians</td>\n",
              "      <td>Gujarat Titans</td>\n",
              "      <td>18</td>\n",
              "      <td>1</td>\n",
              "      <td>JP Behrendorff</td>\n",
              "      <td>...</td>\n",
              "      <td>K Kartikeya</td>\n",
              "      <td>1</td>\n",
              "      <td>0</td>\n",
              "      <td>1</td>\n",
              "      <td>NaN</td>\n",
              "      <td>0</td>\n",
              "      <td>0</td>\n",
              "      <td>NaN</td>\n",
              "      <td>NaN</td>\n",
              "      <td>171</td>\n",
              "    </tr>\n",
              "    <tr>\n",
              "      <th>198468</th>\n",
              "      <td>Ahmedabad</td>\n",
              "      <td>Gujarat Titans</td>\n",
              "      <td>233</td>\n",
              "      <td>1370352</td>\n",
              "      <td>2</td>\n",
              "      <td>Mumbai Indians</td>\n",
              "      <td>Gujarat Titans</td>\n",
              "      <td>18</td>\n",
              "      <td>2</td>\n",
              "      <td>K Kartikeya</td>\n",
              "      <td>...</td>\n",
              "      <td>JP Behrendorff</td>\n",
              "      <td>0</td>\n",
              "      <td>0</td>\n",
              "      <td>0</td>\n",
              "      <td>NaN</td>\n",
              "      <td>1</td>\n",
              "      <td>1</td>\n",
              "      <td>caught</td>\n",
              "      <td>DA Miller</td>\n",
              "      <td>171</td>\n",
              "    </tr>\n",
              "  </tbody>\n",
              "</table>\n",
              "<p>96226 rows × 21 columns</p>\n",
              "</div>"
            ],
            "text/plain": [
              "             city                 winner  total_runs_x  match_id  inning  \\\n",
              "124     Bangalore  Kolkata Knight Riders           222    335982       2   \n",
              "125     Bangalore  Kolkata Knight Riders           222    335982       2   \n",
              "126     Bangalore  Kolkata Knight Riders           222    335982       2   \n",
              "127     Bangalore  Kolkata Knight Riders           222    335982       2   \n",
              "128     Bangalore  Kolkata Knight Riders           222    335982       2   \n",
              "...           ...                    ...           ...       ...     ...   \n",
              "198464  Ahmedabad         Gujarat Titans           233   1370352       2   \n",
              "198465  Ahmedabad         Gujarat Titans           233   1370352       2   \n",
              "198466  Ahmedabad         Gujarat Titans           233   1370352       2   \n",
              "198467  Ahmedabad         Gujarat Titans           233   1370352       2   \n",
              "198468  Ahmedabad         Gujarat Titans           233   1370352       2   \n",
              "\n",
              "                       batting_team           bowling_team  over  ball  \\\n",
              "124     Royal Challengers Bangalore  Kolkata Knight Riders     0     1   \n",
              "125     Royal Challengers Bangalore  Kolkata Knight Riders     0     2   \n",
              "126     Royal Challengers Bangalore  Kolkata Knight Riders     0     3   \n",
              "127     Royal Challengers Bangalore  Kolkata Knight Riders     0     4   \n",
              "128     Royal Challengers Bangalore  Kolkata Knight Riders     0     5   \n",
              "...                             ...                    ...   ...   ...   \n",
              "198464               Mumbai Indians         Gujarat Titans    17     4   \n",
              "198465               Mumbai Indians         Gujarat Titans    17     5   \n",
              "198466               Mumbai Indians         Gujarat Titans    17     6   \n",
              "198467               Mumbai Indians         Gujarat Titans    18     1   \n",
              "198468               Mumbai Indians         Gujarat Titans    18     2   \n",
              "\n",
              "                batter  ...     non_striker batsman_runs  extra_runs  \\\n",
              "124           R Dravid  ...        W Jaffer            1           0   \n",
              "125           W Jaffer  ...        R Dravid            0           1   \n",
              "126           W Jaffer  ...        R Dravid            0           0   \n",
              "127           W Jaffer  ...        R Dravid            1           0   \n",
              "128           R Dravid  ...        W Jaffer            1           0   \n",
              "...                ...  ...             ...          ...         ...   \n",
              "198464  JP Behrendorff  ...     K Kartikeya            1           0   \n",
              "198465     K Kartikeya  ...  JP Behrendorff            4           0   \n",
              "198466     K Kartikeya  ...  JP Behrendorff            0           0   \n",
              "198467  JP Behrendorff  ...     K Kartikeya            1           0   \n",
              "198468     K Kartikeya  ...  JP Behrendorff            0           0   \n",
              "\n",
              "        total_runs_y  extras_type is_wicket  player_dismissed  dismissal_kind  \\\n",
              "124                1          NaN         0                 0             NaN   \n",
              "125                1        wides         0                 0             NaN   \n",
              "126                0          NaN         0                 0             NaN   \n",
              "127                1          NaN         0                 0             NaN   \n",
              "128                1          NaN         0                 0             NaN   \n",
              "...              ...          ...       ...               ...             ...   \n",
              "198464             1          NaN         0                 0             NaN   \n",
              "198465             4          NaN         0                 0             NaN   \n",
              "198466             0          NaN         0                 0             NaN   \n",
              "198467             1          NaN         0                 0             NaN   \n",
              "198468             0          NaN         1                 1          caught   \n",
              "\n",
              "          fielder current_socre  \n",
              "124           NaN             1  \n",
              "125           NaN             2  \n",
              "126           NaN             2  \n",
              "127           NaN             3  \n",
              "128           NaN             4  \n",
              "...           ...           ...  \n",
              "198464        NaN           166  \n",
              "198465        NaN           170  \n",
              "198466        NaN           170  \n",
              "198467        NaN           171  \n",
              "198468  DA Miller           171  \n",
              "\n",
              "[96226 rows x 21 columns]"
            ]
          },
          "execution_count": 35,
          "metadata": {},
          "output_type": "execute_result"
        }
      ],
      "source": [
        "delivery_df"
      ]
    },
    {
      "cell_type": "code",
      "execution_count": 36,
      "metadata": {
        "id": "WpuRxLEOWpkV"
      },
      "outputs": [],
      "source": [
        "delivery_df['runs_left']=(delivery_df['total_runs_x']-delivery_df['current_socre'])+1 #why +1 because if team 1 score 100 team 2 must score 101 to win\n",
        "#thats why i add +1"
      ]
    },
    {
      "cell_type": "code",
      "execution_count": 37,
      "metadata": {
        "colab": {
          "base_uri": "https://localhost:8080/",
          "height": 704
        },
        "id": "jdw6Y0ubXQIt",
        "outputId": "ca3c95b6-a80e-4672-b814-9ccafa2f43d6"
      },
      "outputs": [
        {
          "data": {
            "text/html": [
              "<div>\n",
              "<style scoped>\n",
              "    .dataframe tbody tr th:only-of-type {\n",
              "        vertical-align: middle;\n",
              "    }\n",
              "\n",
              "    .dataframe tbody tr th {\n",
              "        vertical-align: top;\n",
              "    }\n",
              "\n",
              "    .dataframe thead th {\n",
              "        text-align: right;\n",
              "    }\n",
              "</style>\n",
              "<table border=\"1\" class=\"dataframe\">\n",
              "  <thead>\n",
              "    <tr style=\"text-align: right;\">\n",
              "      <th></th>\n",
              "      <th>city</th>\n",
              "      <th>winner</th>\n",
              "      <th>total_runs_x</th>\n",
              "      <th>match_id</th>\n",
              "      <th>inning</th>\n",
              "      <th>batting_team</th>\n",
              "      <th>bowling_team</th>\n",
              "      <th>over</th>\n",
              "      <th>ball</th>\n",
              "      <th>batter</th>\n",
              "      <th>...</th>\n",
              "      <th>batsman_runs</th>\n",
              "      <th>extra_runs</th>\n",
              "      <th>total_runs_y</th>\n",
              "      <th>extras_type</th>\n",
              "      <th>is_wicket</th>\n",
              "      <th>player_dismissed</th>\n",
              "      <th>dismissal_kind</th>\n",
              "      <th>fielder</th>\n",
              "      <th>current_socre</th>\n",
              "      <th>runs_left</th>\n",
              "    </tr>\n",
              "  </thead>\n",
              "  <tbody>\n",
              "    <tr>\n",
              "      <th>124</th>\n",
              "      <td>Bangalore</td>\n",
              "      <td>Kolkata Knight Riders</td>\n",
              "      <td>222</td>\n",
              "      <td>335982</td>\n",
              "      <td>2</td>\n",
              "      <td>Royal Challengers Bangalore</td>\n",
              "      <td>Kolkata Knight Riders</td>\n",
              "      <td>0</td>\n",
              "      <td>1</td>\n",
              "      <td>R Dravid</td>\n",
              "      <td>...</td>\n",
              "      <td>1</td>\n",
              "      <td>0</td>\n",
              "      <td>1</td>\n",
              "      <td>NaN</td>\n",
              "      <td>0</td>\n",
              "      <td>0</td>\n",
              "      <td>NaN</td>\n",
              "      <td>NaN</td>\n",
              "      <td>1</td>\n",
              "      <td>222</td>\n",
              "    </tr>\n",
              "    <tr>\n",
              "      <th>125</th>\n",
              "      <td>Bangalore</td>\n",
              "      <td>Kolkata Knight Riders</td>\n",
              "      <td>222</td>\n",
              "      <td>335982</td>\n",
              "      <td>2</td>\n",
              "      <td>Royal Challengers Bangalore</td>\n",
              "      <td>Kolkata Knight Riders</td>\n",
              "      <td>0</td>\n",
              "      <td>2</td>\n",
              "      <td>W Jaffer</td>\n",
              "      <td>...</td>\n",
              "      <td>0</td>\n",
              "      <td>1</td>\n",
              "      <td>1</td>\n",
              "      <td>wides</td>\n",
              "      <td>0</td>\n",
              "      <td>0</td>\n",
              "      <td>NaN</td>\n",
              "      <td>NaN</td>\n",
              "      <td>2</td>\n",
              "      <td>221</td>\n",
              "    </tr>\n",
              "    <tr>\n",
              "      <th>126</th>\n",
              "      <td>Bangalore</td>\n",
              "      <td>Kolkata Knight Riders</td>\n",
              "      <td>222</td>\n",
              "      <td>335982</td>\n",
              "      <td>2</td>\n",
              "      <td>Royal Challengers Bangalore</td>\n",
              "      <td>Kolkata Knight Riders</td>\n",
              "      <td>0</td>\n",
              "      <td>3</td>\n",
              "      <td>W Jaffer</td>\n",
              "      <td>...</td>\n",
              "      <td>0</td>\n",
              "      <td>0</td>\n",
              "      <td>0</td>\n",
              "      <td>NaN</td>\n",
              "      <td>0</td>\n",
              "      <td>0</td>\n",
              "      <td>NaN</td>\n",
              "      <td>NaN</td>\n",
              "      <td>2</td>\n",
              "      <td>221</td>\n",
              "    </tr>\n",
              "    <tr>\n",
              "      <th>127</th>\n",
              "      <td>Bangalore</td>\n",
              "      <td>Kolkata Knight Riders</td>\n",
              "      <td>222</td>\n",
              "      <td>335982</td>\n",
              "      <td>2</td>\n",
              "      <td>Royal Challengers Bangalore</td>\n",
              "      <td>Kolkata Knight Riders</td>\n",
              "      <td>0</td>\n",
              "      <td>4</td>\n",
              "      <td>W Jaffer</td>\n",
              "      <td>...</td>\n",
              "      <td>1</td>\n",
              "      <td>0</td>\n",
              "      <td>1</td>\n",
              "      <td>NaN</td>\n",
              "      <td>0</td>\n",
              "      <td>0</td>\n",
              "      <td>NaN</td>\n",
              "      <td>NaN</td>\n",
              "      <td>3</td>\n",
              "      <td>220</td>\n",
              "    </tr>\n",
              "    <tr>\n",
              "      <th>128</th>\n",
              "      <td>Bangalore</td>\n",
              "      <td>Kolkata Knight Riders</td>\n",
              "      <td>222</td>\n",
              "      <td>335982</td>\n",
              "      <td>2</td>\n",
              "      <td>Royal Challengers Bangalore</td>\n",
              "      <td>Kolkata Knight Riders</td>\n",
              "      <td>0</td>\n",
              "      <td>5</td>\n",
              "      <td>R Dravid</td>\n",
              "      <td>...</td>\n",
              "      <td>1</td>\n",
              "      <td>0</td>\n",
              "      <td>1</td>\n",
              "      <td>NaN</td>\n",
              "      <td>0</td>\n",
              "      <td>0</td>\n",
              "      <td>NaN</td>\n",
              "      <td>NaN</td>\n",
              "      <td>4</td>\n",
              "      <td>219</td>\n",
              "    </tr>\n",
              "    <tr>\n",
              "      <th>...</th>\n",
              "      <td>...</td>\n",
              "      <td>...</td>\n",
              "      <td>...</td>\n",
              "      <td>...</td>\n",
              "      <td>...</td>\n",
              "      <td>...</td>\n",
              "      <td>...</td>\n",
              "      <td>...</td>\n",
              "      <td>...</td>\n",
              "      <td>...</td>\n",
              "      <td>...</td>\n",
              "      <td>...</td>\n",
              "      <td>...</td>\n",
              "      <td>...</td>\n",
              "      <td>...</td>\n",
              "      <td>...</td>\n",
              "      <td>...</td>\n",
              "      <td>...</td>\n",
              "      <td>...</td>\n",
              "      <td>...</td>\n",
              "      <td>...</td>\n",
              "    </tr>\n",
              "    <tr>\n",
              "      <th>198464</th>\n",
              "      <td>Ahmedabad</td>\n",
              "      <td>Gujarat Titans</td>\n",
              "      <td>233</td>\n",
              "      <td>1370352</td>\n",
              "      <td>2</td>\n",
              "      <td>Mumbai Indians</td>\n",
              "      <td>Gujarat Titans</td>\n",
              "      <td>17</td>\n",
              "      <td>4</td>\n",
              "      <td>JP Behrendorff</td>\n",
              "      <td>...</td>\n",
              "      <td>1</td>\n",
              "      <td>0</td>\n",
              "      <td>1</td>\n",
              "      <td>NaN</td>\n",
              "      <td>0</td>\n",
              "      <td>0</td>\n",
              "      <td>NaN</td>\n",
              "      <td>NaN</td>\n",
              "      <td>166</td>\n",
              "      <td>68</td>\n",
              "    </tr>\n",
              "    <tr>\n",
              "      <th>198465</th>\n",
              "      <td>Ahmedabad</td>\n",
              "      <td>Gujarat Titans</td>\n",
              "      <td>233</td>\n",
              "      <td>1370352</td>\n",
              "      <td>2</td>\n",
              "      <td>Mumbai Indians</td>\n",
              "      <td>Gujarat Titans</td>\n",
              "      <td>17</td>\n",
              "      <td>5</td>\n",
              "      <td>K Kartikeya</td>\n",
              "      <td>...</td>\n",
              "      <td>4</td>\n",
              "      <td>0</td>\n",
              "      <td>4</td>\n",
              "      <td>NaN</td>\n",
              "      <td>0</td>\n",
              "      <td>0</td>\n",
              "      <td>NaN</td>\n",
              "      <td>NaN</td>\n",
              "      <td>170</td>\n",
              "      <td>64</td>\n",
              "    </tr>\n",
              "    <tr>\n",
              "      <th>198466</th>\n",
              "      <td>Ahmedabad</td>\n",
              "      <td>Gujarat Titans</td>\n",
              "      <td>233</td>\n",
              "      <td>1370352</td>\n",
              "      <td>2</td>\n",
              "      <td>Mumbai Indians</td>\n",
              "      <td>Gujarat Titans</td>\n",
              "      <td>17</td>\n",
              "      <td>6</td>\n",
              "      <td>K Kartikeya</td>\n",
              "      <td>...</td>\n",
              "      <td>0</td>\n",
              "      <td>0</td>\n",
              "      <td>0</td>\n",
              "      <td>NaN</td>\n",
              "      <td>0</td>\n",
              "      <td>0</td>\n",
              "      <td>NaN</td>\n",
              "      <td>NaN</td>\n",
              "      <td>170</td>\n",
              "      <td>64</td>\n",
              "    </tr>\n",
              "    <tr>\n",
              "      <th>198467</th>\n",
              "      <td>Ahmedabad</td>\n",
              "      <td>Gujarat Titans</td>\n",
              "      <td>233</td>\n",
              "      <td>1370352</td>\n",
              "      <td>2</td>\n",
              "      <td>Mumbai Indians</td>\n",
              "      <td>Gujarat Titans</td>\n",
              "      <td>18</td>\n",
              "      <td>1</td>\n",
              "      <td>JP Behrendorff</td>\n",
              "      <td>...</td>\n",
              "      <td>1</td>\n",
              "      <td>0</td>\n",
              "      <td>1</td>\n",
              "      <td>NaN</td>\n",
              "      <td>0</td>\n",
              "      <td>0</td>\n",
              "      <td>NaN</td>\n",
              "      <td>NaN</td>\n",
              "      <td>171</td>\n",
              "      <td>63</td>\n",
              "    </tr>\n",
              "    <tr>\n",
              "      <th>198468</th>\n",
              "      <td>Ahmedabad</td>\n",
              "      <td>Gujarat Titans</td>\n",
              "      <td>233</td>\n",
              "      <td>1370352</td>\n",
              "      <td>2</td>\n",
              "      <td>Mumbai Indians</td>\n",
              "      <td>Gujarat Titans</td>\n",
              "      <td>18</td>\n",
              "      <td>2</td>\n",
              "      <td>K Kartikeya</td>\n",
              "      <td>...</td>\n",
              "      <td>0</td>\n",
              "      <td>0</td>\n",
              "      <td>0</td>\n",
              "      <td>NaN</td>\n",
              "      <td>1</td>\n",
              "      <td>1</td>\n",
              "      <td>caught</td>\n",
              "      <td>DA Miller</td>\n",
              "      <td>171</td>\n",
              "      <td>63</td>\n",
              "    </tr>\n",
              "  </tbody>\n",
              "</table>\n",
              "<p>96226 rows × 22 columns</p>\n",
              "</div>"
            ],
            "text/plain": [
              "             city                 winner  total_runs_x  match_id  inning  \\\n",
              "124     Bangalore  Kolkata Knight Riders           222    335982       2   \n",
              "125     Bangalore  Kolkata Knight Riders           222    335982       2   \n",
              "126     Bangalore  Kolkata Knight Riders           222    335982       2   \n",
              "127     Bangalore  Kolkata Knight Riders           222    335982       2   \n",
              "128     Bangalore  Kolkata Knight Riders           222    335982       2   \n",
              "...           ...                    ...           ...       ...     ...   \n",
              "198464  Ahmedabad         Gujarat Titans           233   1370352       2   \n",
              "198465  Ahmedabad         Gujarat Titans           233   1370352       2   \n",
              "198466  Ahmedabad         Gujarat Titans           233   1370352       2   \n",
              "198467  Ahmedabad         Gujarat Titans           233   1370352       2   \n",
              "198468  Ahmedabad         Gujarat Titans           233   1370352       2   \n",
              "\n",
              "                       batting_team           bowling_team  over  ball  \\\n",
              "124     Royal Challengers Bangalore  Kolkata Knight Riders     0     1   \n",
              "125     Royal Challengers Bangalore  Kolkata Knight Riders     0     2   \n",
              "126     Royal Challengers Bangalore  Kolkata Knight Riders     0     3   \n",
              "127     Royal Challengers Bangalore  Kolkata Knight Riders     0     4   \n",
              "128     Royal Challengers Bangalore  Kolkata Knight Riders     0     5   \n",
              "...                             ...                    ...   ...   ...   \n",
              "198464               Mumbai Indians         Gujarat Titans    17     4   \n",
              "198465               Mumbai Indians         Gujarat Titans    17     5   \n",
              "198466               Mumbai Indians         Gujarat Titans    17     6   \n",
              "198467               Mumbai Indians         Gujarat Titans    18     1   \n",
              "198468               Mumbai Indians         Gujarat Titans    18     2   \n",
              "\n",
              "                batter  ... batsman_runs extra_runs  total_runs_y  \\\n",
              "124           R Dravid  ...            1          0             1   \n",
              "125           W Jaffer  ...            0          1             1   \n",
              "126           W Jaffer  ...            0          0             0   \n",
              "127           W Jaffer  ...            1          0             1   \n",
              "128           R Dravid  ...            1          0             1   \n",
              "...                ...  ...          ...        ...           ...   \n",
              "198464  JP Behrendorff  ...            1          0             1   \n",
              "198465     K Kartikeya  ...            4          0             4   \n",
              "198466     K Kartikeya  ...            0          0             0   \n",
              "198467  JP Behrendorff  ...            1          0             1   \n",
              "198468     K Kartikeya  ...            0          0             0   \n",
              "\n",
              "        extras_type  is_wicket player_dismissed  dismissal_kind    fielder  \\\n",
              "124             NaN          0                0             NaN        NaN   \n",
              "125           wides          0                0             NaN        NaN   \n",
              "126             NaN          0                0             NaN        NaN   \n",
              "127             NaN          0                0             NaN        NaN   \n",
              "128             NaN          0                0             NaN        NaN   \n",
              "...             ...        ...              ...             ...        ...   \n",
              "198464          NaN          0                0             NaN        NaN   \n",
              "198465          NaN          0                0             NaN        NaN   \n",
              "198466          NaN          0                0             NaN        NaN   \n",
              "198467          NaN          0                0             NaN        NaN   \n",
              "198468          NaN          1                1          caught  DA Miller   \n",
              "\n",
              "       current_socre runs_left  \n",
              "124                1       222  \n",
              "125                2       221  \n",
              "126                2       221  \n",
              "127                3       220  \n",
              "128                4       219  \n",
              "...              ...       ...  \n",
              "198464           166        68  \n",
              "198465           170        64  \n",
              "198466           170        64  \n",
              "198467           171        63  \n",
              "198468           171        63  \n",
              "\n",
              "[96226 rows x 22 columns]"
            ]
          },
          "execution_count": 37,
          "metadata": {},
          "output_type": "execute_result"
        }
      ],
      "source": [
        "delivery_df"
      ]
    },
    {
      "cell_type": "markdown",
      "metadata": {
        "id": "lhta4xv-X7HW"
      },
      "source": [
        "calculation for (balls_left)"
      ]
    },
    {
      "cell_type": "code",
      "execution_count": 38,
      "metadata": {
        "colab": {
          "base_uri": "https://localhost:8080/"
        },
        "id": "WCsurcSXX_TM",
        "outputId": "3d0cc45f-c358-4db2-f7ba-381bd48e0d96"
      },
      "outputs": [
        {
          "data": {
            "text/plain": [
              "{0: 1,\n",
              " 1: 2,\n",
              " 2: 3,\n",
              " 3: 4,\n",
              " 4: 5,\n",
              " 5: 6,\n",
              " 6: 7,\n",
              " 7: 8,\n",
              " 8: 9,\n",
              " 9: 10,\n",
              " 10: 11,\n",
              " 11: 12,\n",
              " 12: 13,\n",
              " 13: 14,\n",
              " 14: 15,\n",
              " 15: 16,\n",
              " 16: 17,\n",
              " 17: 18,\n",
              " 18: 19,\n",
              " 19: 20}"
            ]
          },
          "execution_count": 38,
          "metadata": {},
          "output_type": "execute_result"
        }
      ],
      "source": [
        "# to working the formula 126-(delivery_df['over']*6+delivery_df['ball']) i need the over like 1-10 not in 0-9\n",
        "a=[n for n in range(0,20)]\n",
        "b=[n for n in range (1,21)]\n",
        "d={} #{0:1,1:2}\n",
        "for n in a:\n",
        "  d[n]=b[a.index(n)]\n",
        "d"
      ]
    },
    {
      "cell_type": "code",
      "execution_count": 39,
      "metadata": {
        "id": "Wq2DHaDdZ6oj"
      },
      "outputs": [],
      "source": [
        "delivery_df['over'].replace(d,inplace=True)"
      ]
    },
    {
      "cell_type": "code",
      "execution_count": 40,
      "metadata": {
        "id": "Ryf2lbEUaXH0"
      },
      "outputs": [],
      "source": [
        "#now applying the formula\n",
        "delivery_df['balls_left']=126 - (delivery_df['over']*6 + delivery_df['ball'])"
      ]
    },
    {
      "cell_type": "markdown",
      "metadata": {
        "id": "KD13PeS6bU_5"
      },
      "source": [
        "(wicket) after each ball column."
      ]
    },
    {
      "cell_type": "code",
      "execution_count": 41,
      "metadata": {
        "id": "GqU6cmrl24TO"
      },
      "outputs": [],
      "source": [
        "delivery_df.rename(columns={'wicket':'wickets'},inplace=True)"
      ]
    },
    {
      "cell_type": "code",
      "execution_count": 42,
      "metadata": {
        "colab": {
          "base_uri": "https://localhost:8080/",
          "height": 165
        },
        "id": "3IJd1-_M3FTO",
        "outputId": "0d6549b4-139d-4d8c-8025-bd2f5a4d156f"
      },
      "outputs": [
        {
          "data": {
            "text/html": [
              "<div>\n",
              "<style scoped>\n",
              "    .dataframe tbody tr th:only-of-type {\n",
              "        vertical-align: middle;\n",
              "    }\n",
              "\n",
              "    .dataframe tbody tr th {\n",
              "        vertical-align: top;\n",
              "    }\n",
              "\n",
              "    .dataframe thead th {\n",
              "        text-align: right;\n",
              "    }\n",
              "</style>\n",
              "<table border=\"1\" class=\"dataframe\">\n",
              "  <thead>\n",
              "    <tr style=\"text-align: right;\">\n",
              "      <th></th>\n",
              "      <th>city</th>\n",
              "      <th>winner</th>\n",
              "      <th>total_runs_x</th>\n",
              "      <th>match_id</th>\n",
              "      <th>inning</th>\n",
              "      <th>batting_team</th>\n",
              "      <th>bowling_team</th>\n",
              "      <th>over</th>\n",
              "      <th>ball</th>\n",
              "      <th>batter</th>\n",
              "      <th>...</th>\n",
              "      <th>extra_runs</th>\n",
              "      <th>total_runs_y</th>\n",
              "      <th>extras_type</th>\n",
              "      <th>is_wicket</th>\n",
              "      <th>player_dismissed</th>\n",
              "      <th>dismissal_kind</th>\n",
              "      <th>fielder</th>\n",
              "      <th>current_socre</th>\n",
              "      <th>runs_left</th>\n",
              "      <th>balls_left</th>\n",
              "    </tr>\n",
              "  </thead>\n",
              "  <tbody>\n",
              "    <tr>\n",
              "      <th>124</th>\n",
              "      <td>Bangalore</td>\n",
              "      <td>Kolkata Knight Riders</td>\n",
              "      <td>222</td>\n",
              "      <td>335982</td>\n",
              "      <td>2</td>\n",
              "      <td>Royal Challengers Bangalore</td>\n",
              "      <td>Kolkata Knight Riders</td>\n",
              "      <td>1</td>\n",
              "      <td>1</td>\n",
              "      <td>R Dravid</td>\n",
              "      <td>...</td>\n",
              "      <td>0</td>\n",
              "      <td>1</td>\n",
              "      <td>NaN</td>\n",
              "      <td>0</td>\n",
              "      <td>0</td>\n",
              "      <td>NaN</td>\n",
              "      <td>NaN</td>\n",
              "      <td>1</td>\n",
              "      <td>222</td>\n",
              "      <td>119</td>\n",
              "    </tr>\n",
              "  </tbody>\n",
              "</table>\n",
              "<p>1 rows × 23 columns</p>\n",
              "</div>"
            ],
            "text/plain": [
              "          city                 winner  total_runs_x  match_id  inning  \\\n",
              "124  Bangalore  Kolkata Knight Riders           222    335982       2   \n",
              "\n",
              "                    batting_team           bowling_team  over  ball    batter  \\\n",
              "124  Royal Challengers Bangalore  Kolkata Knight Riders     1     1  R Dravid   \n",
              "\n",
              "     ... extra_runs total_runs_y  extras_type  is_wicket  player_dismissed  \\\n",
              "124  ...          0            1          NaN          0                 0   \n",
              "\n",
              "    dismissal_kind  fielder  current_socre runs_left balls_left  \n",
              "124            NaN      NaN              1       222        119  \n",
              "\n",
              "[1 rows x 23 columns]"
            ]
          },
          "execution_count": 42,
          "metadata": {},
          "output_type": "execute_result"
        }
      ],
      "source": [
        "delivery_df.head(1)"
      ]
    },
    {
      "cell_type": "code",
      "execution_count": 43,
      "metadata": {
        "id": "FTuTYeQea-Es"
      },
      "outputs": [],
      "source": [
        "delivery_df['wickets']=delivery_df[['match_id','player_dismissed']].groupby('match_id').cumsum()"
      ]
    },
    {
      "cell_type": "code",
      "execution_count": 44,
      "metadata": {
        "id": "Ha_1-aknb_ak"
      },
      "outputs": [],
      "source": [
        "delivery_df['wickets']=10-delivery_df['wickets']"
      ]
    },
    {
      "cell_type": "code",
      "execution_count": 45,
      "metadata": {
        "colab": {
          "base_uri": "https://localhost:8080/",
          "height": 165
        },
        "id": "Ped-5VsE3WXG",
        "outputId": "6d877d3e-3bb8-4d67-b987-8f44ffd57529"
      },
      "outputs": [
        {
          "data": {
            "text/html": [
              "<div>\n",
              "<style scoped>\n",
              "    .dataframe tbody tr th:only-of-type {\n",
              "        vertical-align: middle;\n",
              "    }\n",
              "\n",
              "    .dataframe tbody tr th {\n",
              "        vertical-align: top;\n",
              "    }\n",
              "\n",
              "    .dataframe thead th {\n",
              "        text-align: right;\n",
              "    }\n",
              "</style>\n",
              "<table border=\"1\" class=\"dataframe\">\n",
              "  <thead>\n",
              "    <tr style=\"text-align: right;\">\n",
              "      <th></th>\n",
              "      <th>city</th>\n",
              "      <th>winner</th>\n",
              "      <th>total_runs_x</th>\n",
              "      <th>match_id</th>\n",
              "      <th>inning</th>\n",
              "      <th>batting_team</th>\n",
              "      <th>bowling_team</th>\n",
              "      <th>over</th>\n",
              "      <th>ball</th>\n",
              "      <th>batter</th>\n",
              "      <th>...</th>\n",
              "      <th>total_runs_y</th>\n",
              "      <th>extras_type</th>\n",
              "      <th>is_wicket</th>\n",
              "      <th>player_dismissed</th>\n",
              "      <th>dismissal_kind</th>\n",
              "      <th>fielder</th>\n",
              "      <th>current_socre</th>\n",
              "      <th>runs_left</th>\n",
              "      <th>balls_left</th>\n",
              "      <th>wickets</th>\n",
              "    </tr>\n",
              "  </thead>\n",
              "  <tbody>\n",
              "    <tr>\n",
              "      <th>124</th>\n",
              "      <td>Bangalore</td>\n",
              "      <td>Kolkata Knight Riders</td>\n",
              "      <td>222</td>\n",
              "      <td>335982</td>\n",
              "      <td>2</td>\n",
              "      <td>Royal Challengers Bangalore</td>\n",
              "      <td>Kolkata Knight Riders</td>\n",
              "      <td>1</td>\n",
              "      <td>1</td>\n",
              "      <td>R Dravid</td>\n",
              "      <td>...</td>\n",
              "      <td>1</td>\n",
              "      <td>NaN</td>\n",
              "      <td>0</td>\n",
              "      <td>0</td>\n",
              "      <td>NaN</td>\n",
              "      <td>NaN</td>\n",
              "      <td>1</td>\n",
              "      <td>222</td>\n",
              "      <td>119</td>\n",
              "      <td>10</td>\n",
              "    </tr>\n",
              "  </tbody>\n",
              "</table>\n",
              "<p>1 rows × 24 columns</p>\n",
              "</div>"
            ],
            "text/plain": [
              "          city                 winner  total_runs_x  match_id  inning  \\\n",
              "124  Bangalore  Kolkata Knight Riders           222    335982       2   \n",
              "\n",
              "                    batting_team           bowling_team  over  ball    batter  \\\n",
              "124  Royal Challengers Bangalore  Kolkata Knight Riders     1     1  R Dravid   \n",
              "\n",
              "     ... total_runs_y extras_type  is_wicket  player_dismissed  \\\n",
              "124  ...            1         NaN          0                 0   \n",
              "\n",
              "     dismissal_kind fielder  current_socre  runs_left balls_left wickets  \n",
              "124             NaN     NaN              1        222        119      10  \n",
              "\n",
              "[1 rows x 24 columns]"
            ]
          },
          "execution_count": 45,
          "metadata": {},
          "output_type": "execute_result"
        }
      ],
      "source": [
        "delivery_df.head(1)"
      ]
    },
    {
      "cell_type": "markdown",
      "metadata": {
        "id": "zCXktY9TdARs"
      },
      "source": [
        "calculation for crr(current runrate)"
      ]
    },
    {
      "cell_type": "code",
      "execution_count": 46,
      "metadata": {
        "id": "b-W40MtIdJhE"
      },
      "outputs": [],
      "source": [
        "#crr= runs/over\n",
        "delivery_df['crr']=(delivery_df['current_socre']*6)/(120-delivery_df['balls_left'])"
      ]
    },
    {
      "cell_type": "markdown",
      "metadata": {
        "id": "jAbuZKtZV6E_"
      },
      "source": [
        "calculation for rrr(required run rate)"
      ]
    },
    {
      "cell_type": "code",
      "execution_count": 47,
      "metadata": {
        "id": "lycP1cNGV_pQ"
      },
      "outputs": [],
      "source": [
        "delivery_df['rrr']=delivery_df['runs_left']*6/delivery_df['balls_left']"
      ]
    },
    {
      "cell_type": "markdown",
      "metadata": {
        "id": "x-QPxhPFfLFT"
      },
      "source": [
        "cleaning crr and rrr columns"
      ]
    },
    {
      "cell_type": "code",
      "execution_count": 48,
      "metadata": {
        "colab": {
          "base_uri": "https://localhost:8080/",
          "height": 300
        },
        "id": "gGsh9LrJebQ5",
        "outputId": "71c1f83a-334c-4fb7-bc5f-70513c9ce0e7"
      },
      "outputs": [
        {
          "name": "stderr",
          "output_type": "stream",
          "text": [
            "c:\\Python311\\Lib\\site-packages\\numpy\\core\\_methods.py:49: RuntimeWarning: invalid value encountered in reduce\n",
            "  return umr_sum(a, axis, dtype, out, keepdims, initial, where)\n"
          ]
        },
        {
          "data": {
            "text/html": [
              "<div>\n",
              "<style scoped>\n",
              "    .dataframe tbody tr th:only-of-type {\n",
              "        vertical-align: middle;\n",
              "    }\n",
              "\n",
              "    .dataframe tbody tr th {\n",
              "        vertical-align: top;\n",
              "    }\n",
              "\n",
              "    .dataframe thead th {\n",
              "        text-align: right;\n",
              "    }\n",
              "</style>\n",
              "<table border=\"1\" class=\"dataframe\">\n",
              "  <thead>\n",
              "    <tr style=\"text-align: right;\">\n",
              "      <th></th>\n",
              "      <th>crr</th>\n",
              "      <th>rrr</th>\n",
              "    </tr>\n",
              "  </thead>\n",
              "  <tbody>\n",
              "    <tr>\n",
              "      <th>count</th>\n",
              "      <td>96226.000000</td>\n",
              "      <td>9.621200e+04</td>\n",
              "    </tr>\n",
              "    <tr>\n",
              "      <th>mean</th>\n",
              "      <td>7.487117</td>\n",
              "      <td>NaN</td>\n",
              "    </tr>\n",
              "    <tr>\n",
              "      <th>std</th>\n",
              "      <td>2.279710</td>\n",
              "      <td>NaN</td>\n",
              "    </tr>\n",
              "    <tr>\n",
              "      <th>min</th>\n",
              "      <td>0.000000</td>\n",
              "      <td>-inf</td>\n",
              "    </tr>\n",
              "    <tr>\n",
              "      <th>25%</th>\n",
              "      <td>6.318584</td>\n",
              "      <td>7.309091e+00</td>\n",
              "    </tr>\n",
              "    <tr>\n",
              "      <th>50%</th>\n",
              "      <td>7.542857</td>\n",
              "      <td>9.034483e+00</td>\n",
              "    </tr>\n",
              "    <tr>\n",
              "      <th>75%</th>\n",
              "      <td>8.740741</td>\n",
              "      <td>1.119231e+01</td>\n",
              "    </tr>\n",
              "    <tr>\n",
              "      <th>max</th>\n",
              "      <td>36.000000</td>\n",
              "      <td>inf</td>\n",
              "    </tr>\n",
              "  </tbody>\n",
              "</table>\n",
              "</div>"
            ],
            "text/plain": [
              "                crr           rrr\n",
              "count  96226.000000  9.621200e+04\n",
              "mean       7.487117           NaN\n",
              "std        2.279710           NaN\n",
              "min        0.000000          -inf\n",
              "25%        6.318584  7.309091e+00\n",
              "50%        7.542857  9.034483e+00\n",
              "75%        8.740741  1.119231e+01\n",
              "max       36.000000           inf"
            ]
          },
          "execution_count": 48,
          "metadata": {},
          "output_type": "execute_result"
        }
      ],
      "source": [
        "delivery_df[['crr','rrr']].describe()"
      ]
    },
    {
      "cell_type": "code",
      "execution_count": 49,
      "metadata": {
        "id": "zkKhMSe0hRHS"
      },
      "outputs": [],
      "source": [
        "#tackeling the null values in rrr\n",
        "delivery_df['rrr'].fillna(0,inplace=True)"
      ]
    },
    {
      "cell_type": "code",
      "execution_count": 50,
      "metadata": {
        "id": "EeF_tLl3p5ea"
      },
      "outputs": [],
      "source": [
        "#tackeling the inf value in rrr\n",
        "delivery_df.loc[delivery_df['rrr']==np.inf,['rrr']]=500 #i take 500 randomly as to handel the inf value"
      ]
    },
    {
      "cell_type": "code",
      "execution_count": 51,
      "metadata": {
        "id": "nBU1SvuEqVpi"
      },
      "outputs": [],
      "source": [
        "#tackeling the -inf values in rrr\n",
        "delivery_df.loc[delivery_df['rrr']==-(np.inf),['rrr']]=0.0"
      ]
    },
    {
      "cell_type": "code",
      "execution_count": 52,
      "metadata": {
        "id": "_PqWzq52qupp"
      },
      "outputs": [],
      "source": [
        "#lastly i round the decimal points of the crr and rrr to 2 decimal place\n",
        "delivery_df['crr']=delivery_df['crr'].round(2)\n",
        "delivery_df['rrr']=delivery_df['rrr'].round(2)"
      ]
    },
    {
      "cell_type": "markdown",
      "metadata": {
        "id": "ERTtm5Rsb3Z2"
      },
      "source": [
        "(result) columns\n"
      ]
    },
    {
      "cell_type": "code",
      "execution_count": 53,
      "metadata": {
        "id": "NfbHV2vZb8v-"
      },
      "outputs": [],
      "source": [
        "#if the batting team and the winner is same then i want 1. else 0\n",
        "\n",
        "delivery_df['result']=delivery_df.apply(lambda x: 1 if x['winner']==x['batting_team'] else 0,axis=1)"
      ]
    },
    {
      "cell_type": "markdown",
      "metadata": {
        "id": "s_bhxBMTpbN7"
      },
      "source": [
        "**final data frame**"
      ]
    },
    {
      "cell_type": "code",
      "execution_count": 54,
      "metadata": {
        "id": "mTDs6UkMsBFR"
      },
      "outputs": [],
      "source": [
        "final_df=delivery_df[['batting_team','bowling_team','city','runs_left','balls_left','wickets','total_runs_x','crr','rrr','result']]"
      ]
    },
    {
      "cell_type": "code",
      "execution_count": 55,
      "metadata": {
        "colab": {
          "base_uri": "https://localhost:8080/"
        },
        "id": "fuaT7ZMdtilt",
        "outputId": "eaca396c-cb29-4f33-ffe6-c77ece2db041"
      },
      "outputs": [
        {
          "data": {
            "text/plain": [
              "batting_team    0\n",
              "bowling_team    0\n",
              "city            0\n",
              "runs_left       0\n",
              "balls_left      0\n",
              "wickets         0\n",
              "total_runs_x    0\n",
              "crr             0\n",
              "rrr             0\n",
              "result          0\n",
              "dtype: int64"
            ]
          },
          "execution_count": 55,
          "metadata": {},
          "output_type": "execute_result"
        }
      ],
      "source": [
        "final_df.isnull().sum()"
      ]
    },
    {
      "cell_type": "code",
      "execution_count": 56,
      "metadata": {
        "id": "Zz4oHS08t3Bc"
      },
      "outputs": [],
      "source": [
        "#shuffling the data for non biased model creation\n",
        "final_df=final_df.sample(final_df.shape[0])\n",
        "final_df.reset_index(inplace=True)\n",
        "final_df.drop('index',axis=1,inplace=True)"
      ]
    },
    {
      "cell_type": "code",
      "execution_count": 57,
      "metadata": {
        "colab": {
          "base_uri": "https://localhost:8080/"
        },
        "id": "bhlg2nD1uLxJ",
        "outputId": "ed8e9823-ba6f-48f3-e13d-e685d46f5e85"
      },
      "outputs": [
        {
          "data": {
            "text/plain": [
              "batting_team    0\n",
              "bowling_team    0\n",
              "city            0\n",
              "runs_left       0\n",
              "balls_left      0\n",
              "wickets         0\n",
              "total_runs_x    0\n",
              "crr             0\n",
              "rrr             0\n",
              "result          0\n",
              "dtype: int64"
            ]
          },
          "execution_count": 57,
          "metadata": {},
          "output_type": "execute_result"
        }
      ],
      "source": [
        "final_df.isnull().sum()"
      ]
    },
    {
      "cell_type": "markdown",
      "metadata": {
        "id": "HdFjQsF8vAox"
      },
      "source": [
        "i have to convert all the string value to numeric for my model\n",
        "(below i did it by the help of pipe line)"
      ]
    },
    {
      "cell_type": "code",
      "execution_count": 58,
      "metadata": {
        "colab": {
          "base_uri": "https://localhost:8080/",
          "height": 112
        },
        "id": "TwB64pW-2WWz",
        "outputId": "6719378b-2973-483d-f0fa-8907043b8d97"
      },
      "outputs": [
        {
          "data": {
            "text/html": [
              "<div>\n",
              "<style scoped>\n",
              "    .dataframe tbody tr th:only-of-type {\n",
              "        vertical-align: middle;\n",
              "    }\n",
              "\n",
              "    .dataframe tbody tr th {\n",
              "        vertical-align: top;\n",
              "    }\n",
              "\n",
              "    .dataframe thead th {\n",
              "        text-align: right;\n",
              "    }\n",
              "</style>\n",
              "<table border=\"1\" class=\"dataframe\">\n",
              "  <thead>\n",
              "    <tr style=\"text-align: right;\">\n",
              "      <th></th>\n",
              "      <th>batting_team</th>\n",
              "      <th>bowling_team</th>\n",
              "      <th>city</th>\n",
              "      <th>runs_left</th>\n",
              "      <th>balls_left</th>\n",
              "      <th>wickets</th>\n",
              "      <th>total_runs_x</th>\n",
              "      <th>crr</th>\n",
              "      <th>rrr</th>\n",
              "      <th>result</th>\n",
              "    </tr>\n",
              "  </thead>\n",
              "  <tbody>\n",
              "    <tr>\n",
              "      <th>0</th>\n",
              "      <td>Royal Challengers Bangalore</td>\n",
              "      <td>Punjab Kings</td>\n",
              "      <td>Chandigarh</td>\n",
              "      <td>89</td>\n",
              "      <td>55</td>\n",
              "      <td>7</td>\n",
              "      <td>163</td>\n",
              "      <td>6.92</td>\n",
              "      <td>9.71</td>\n",
              "      <td>1</td>\n",
              "    </tr>\n",
              "    <tr>\n",
              "      <th>1</th>\n",
              "      <td>Chennai Super Kings</td>\n",
              "      <td>Delhi Capitals</td>\n",
              "      <td>Delhi</td>\n",
              "      <td>44</td>\n",
              "      <td>55</td>\n",
              "      <td>7</td>\n",
              "      <td>147</td>\n",
              "      <td>9.60</td>\n",
              "      <td>4.80</td>\n",
              "      <td>1</td>\n",
              "    </tr>\n",
              "  </tbody>\n",
              "</table>\n",
              "</div>"
            ],
            "text/plain": [
              "                  batting_team    bowling_team        city  runs_left  \\\n",
              "0  Royal Challengers Bangalore    Punjab Kings  Chandigarh         89   \n",
              "1          Chennai Super Kings  Delhi Capitals       Delhi         44   \n",
              "\n",
              "   balls_left  wickets  total_runs_x   crr   rrr  result  \n",
              "0          55        7           163  6.92  9.71       1  \n",
              "1          55        7           147  9.60  4.80       1  "
            ]
          },
          "execution_count": 58,
          "metadata": {},
          "output_type": "execute_result"
        }
      ],
      "source": [
        "final_df.head(2)"
      ]
    },
    {
      "cell_type": "markdown",
      "metadata": {
        "id": "JlhF5N9N39yX"
      },
      "source": [
        "x,y separation"
      ]
    },
    {
      "cell_type": "code",
      "execution_count": 59,
      "metadata": {
        "id": "x5oHD1513_VX"
      },
      "outputs": [],
      "source": [
        "x=final_df.iloc[::,0:9]\n",
        "y=final_df.iloc[::,9]"
      ]
    },
    {
      "cell_type": "code",
      "execution_count": 60,
      "metadata": {
        "colab": {
          "base_uri": "https://localhost:8080/",
          "height": 81
        },
        "id": "Ro3RrDw84f2o",
        "outputId": "5506bd2f-9876-49b4-da57-a97d08b51a8b"
      },
      "outputs": [
        {
          "data": {
            "text/html": [
              "<div>\n",
              "<style scoped>\n",
              "    .dataframe tbody tr th:only-of-type {\n",
              "        vertical-align: middle;\n",
              "    }\n",
              "\n",
              "    .dataframe tbody tr th {\n",
              "        vertical-align: top;\n",
              "    }\n",
              "\n",
              "    .dataframe thead th {\n",
              "        text-align: right;\n",
              "    }\n",
              "</style>\n",
              "<table border=\"1\" class=\"dataframe\">\n",
              "  <thead>\n",
              "    <tr style=\"text-align: right;\">\n",
              "      <th></th>\n",
              "      <th>batting_team</th>\n",
              "      <th>bowling_team</th>\n",
              "      <th>city</th>\n",
              "      <th>runs_left</th>\n",
              "      <th>balls_left</th>\n",
              "      <th>wickets</th>\n",
              "      <th>total_runs_x</th>\n",
              "      <th>crr</th>\n",
              "      <th>rrr</th>\n",
              "    </tr>\n",
              "  </thead>\n",
              "  <tbody>\n",
              "    <tr>\n",
              "      <th>0</th>\n",
              "      <td>Royal Challengers Bangalore</td>\n",
              "      <td>Punjab Kings</td>\n",
              "      <td>Chandigarh</td>\n",
              "      <td>89</td>\n",
              "      <td>55</td>\n",
              "      <td>7</td>\n",
              "      <td>163</td>\n",
              "      <td>6.92</td>\n",
              "      <td>9.71</td>\n",
              "    </tr>\n",
              "  </tbody>\n",
              "</table>\n",
              "</div>"
            ],
            "text/plain": [
              "                  batting_team  bowling_team        city  runs_left  \\\n",
              "0  Royal Challengers Bangalore  Punjab Kings  Chandigarh         89   \n",
              "\n",
              "   balls_left  wickets  total_runs_x   crr   rrr  \n",
              "0          55        7           163  6.92  9.71  "
            ]
          },
          "execution_count": 60,
          "metadata": {},
          "output_type": "execute_result"
        }
      ],
      "source": [
        "x.head(1)"
      ]
    },
    {
      "cell_type": "code",
      "execution_count": 61,
      "metadata": {
        "colab": {
          "base_uri": "https://localhost:8080/"
        },
        "id": "hliK-PrU4pvs",
        "outputId": "b07d601f-4896-4168-9121-16993da15b99"
      },
      "outputs": [
        {
          "data": {
            "text/plain": [
              "0    1\n",
              "Name: result, dtype: int64"
            ]
          },
          "execution_count": 61,
          "metadata": {},
          "output_type": "execute_result"
        }
      ],
      "source": [
        "y.head(1)"
      ]
    },
    {
      "cell_type": "markdown",
      "metadata": {
        "id": "p76Aqlyb46y5"
      },
      "source": [
        "Model creation"
      ]
    },
    {
      "cell_type": "code",
      "execution_count": 62,
      "metadata": {
        "id": "mmy7skpm43c9"
      },
      "outputs": [],
      "source": [
        "from sklearn.model_selection import train_test_split\n",
        "x_train,x_test,y_train,y_test=train_test_split(x,y,test_size=0.4,random_state=1)"
      ]
    },
    {
      "cell_type": "code",
      "execution_count": 63,
      "metadata": {
        "id": "CuqciET45WDX"
      },
      "outputs": [],
      "source": [
        "from sklearn.compose import ColumnTransformer\n",
        "from sklearn.preprocessing import OneHotEncoder\n",
        "\n",
        "trf = ColumnTransformer([\n",
        "    ('trf',OneHotEncoder(sparse_output=False,drop='first'),['batting_team','bowling_team','city'])\n",
        "]\n",
        ",remainder='passthrough')"
      ]
    },
    {
      "cell_type": "code",
      "execution_count": 64,
      "metadata": {
        "id": "I1uBT_ek6F8G"
      },
      "outputs": [],
      "source": [
        "from sklearn.linear_model import LogisticRegression\n",
        "from sklearn.pipeline import Pipeline"
      ]
    },
    {
      "cell_type": "code",
      "execution_count": 65,
      "metadata": {
        "id": "qsdKw8Rl6iSd"
      },
      "outputs": [],
      "source": [
        "pipe = Pipeline(steps=[\n",
        "    ('step1',trf),\n",
        "    ('step2',LogisticRegression(solver='liblinear'))\n",
        "])"
      ]
    },
    {
      "cell_type": "code",
      "execution_count": 66,
      "metadata": {
        "colab": {
          "base_uri": "https://localhost:8080/",
          "height": 245
        },
        "id": "0yydJi0r7QpW",
        "outputId": "fc0e9bdf-da0f-40cb-e90e-5ad719fe9b51"
      },
      "outputs": [
        {
          "name": "stderr",
          "output_type": "stream",
          "text": [
            "c:\\Python311\\Lib\\site-packages\\sklearn\\compose\\_column_transformer.py:1624: FutureWarning: \n",
            "The format of the columns of the 'remainder' transformer in ColumnTransformer.transformers_ will change in version 1.7 to match the format of the other transformers.\n",
            "At the moment the remainder columns are stored as indices (of type int). With the same ColumnTransformer configuration, in the future they will be stored as column names (of type str).\n",
            "To use the new behavior now and suppress this warning, use ColumnTransformer(force_int_remainder_cols=False).\n",
            "\n",
            "  warnings.warn(\n"
          ]
        },
        {
          "data": {
            "text/html": [
              "<style>#sk-container-id-1 {\n",
              "  /* Definition of color scheme common for light and dark mode */\n",
              "  --sklearn-color-text: black;\n",
              "  --sklearn-color-line: gray;\n",
              "  /* Definition of color scheme for unfitted estimators */\n",
              "  --sklearn-color-unfitted-level-0: #fff5e6;\n",
              "  --sklearn-color-unfitted-level-1: #f6e4d2;\n",
              "  --sklearn-color-unfitted-level-2: #ffe0b3;\n",
              "  --sklearn-color-unfitted-level-3: chocolate;\n",
              "  /* Definition of color scheme for fitted estimators */\n",
              "  --sklearn-color-fitted-level-0: #f0f8ff;\n",
              "  --sklearn-color-fitted-level-1: #d4ebff;\n",
              "  --sklearn-color-fitted-level-2: #b3dbfd;\n",
              "  --sklearn-color-fitted-level-3: cornflowerblue;\n",
              "\n",
              "  /* Specific color for light theme */\n",
              "  --sklearn-color-text-on-default-background: var(--sg-text-color, var(--theme-code-foreground, var(--jp-content-font-color1, black)));\n",
              "  --sklearn-color-background: var(--sg-background-color, var(--theme-background, var(--jp-layout-color0, white)));\n",
              "  --sklearn-color-border-box: var(--sg-text-color, var(--theme-code-foreground, var(--jp-content-font-color1, black)));\n",
              "  --sklearn-color-icon: #696969;\n",
              "\n",
              "  @media (prefers-color-scheme: dark) {\n",
              "    /* Redefinition of color scheme for dark theme */\n",
              "    --sklearn-color-text-on-default-background: var(--sg-text-color, var(--theme-code-foreground, var(--jp-content-font-color1, white)));\n",
              "    --sklearn-color-background: var(--sg-background-color, var(--theme-background, var(--jp-layout-color0, #111)));\n",
              "    --sklearn-color-border-box: var(--sg-text-color, var(--theme-code-foreground, var(--jp-content-font-color1, white)));\n",
              "    --sklearn-color-icon: #878787;\n",
              "  }\n",
              "}\n",
              "\n",
              "#sk-container-id-1 {\n",
              "  color: var(--sklearn-color-text);\n",
              "}\n",
              "\n",
              "#sk-container-id-1 pre {\n",
              "  padding: 0;\n",
              "}\n",
              "\n",
              "#sk-container-id-1 input.sk-hidden--visually {\n",
              "  border: 0;\n",
              "  clip: rect(1px 1px 1px 1px);\n",
              "  clip: rect(1px, 1px, 1px, 1px);\n",
              "  height: 1px;\n",
              "  margin: -1px;\n",
              "  overflow: hidden;\n",
              "  padding: 0;\n",
              "  position: absolute;\n",
              "  width: 1px;\n",
              "}\n",
              "\n",
              "#sk-container-id-1 div.sk-dashed-wrapped {\n",
              "  border: 1px dashed var(--sklearn-color-line);\n",
              "  margin: 0 0.4em 0.5em 0.4em;\n",
              "  box-sizing: border-box;\n",
              "  padding-bottom: 0.4em;\n",
              "  background-color: var(--sklearn-color-background);\n",
              "}\n",
              "\n",
              "#sk-container-id-1 div.sk-container {\n",
              "  /* jupyter's `normalize.less` sets `[hidden] { display: none; }`\n",
              "     but bootstrap.min.css set `[hidden] { display: none !important; }`\n",
              "     so we also need the `!important` here to be able to override the\n",
              "     default hidden behavior on the sphinx rendered scikit-learn.org.\n",
              "     See: https://github.com/scikit-learn/scikit-learn/issues/21755 */\n",
              "  display: inline-block !important;\n",
              "  position: relative;\n",
              "}\n",
              "\n",
              "#sk-container-id-1 div.sk-text-repr-fallback {\n",
              "  display: none;\n",
              "}\n",
              "\n",
              "div.sk-parallel-item,\n",
              "div.sk-serial,\n",
              "div.sk-item {\n",
              "  /* draw centered vertical line to link estimators */\n",
              "  background-image: linear-gradient(var(--sklearn-color-text-on-default-background), var(--sklearn-color-text-on-default-background));\n",
              "  background-size: 2px 100%;\n",
              "  background-repeat: no-repeat;\n",
              "  background-position: center center;\n",
              "}\n",
              "\n",
              "/* Parallel-specific style estimator block */\n",
              "\n",
              "#sk-container-id-1 div.sk-parallel-item::after {\n",
              "  content: \"\";\n",
              "  width: 100%;\n",
              "  border-bottom: 2px solid var(--sklearn-color-text-on-default-background);\n",
              "  flex-grow: 1;\n",
              "}\n",
              "\n",
              "#sk-container-id-1 div.sk-parallel {\n",
              "  display: flex;\n",
              "  align-items: stretch;\n",
              "  justify-content: center;\n",
              "  background-color: var(--sklearn-color-background);\n",
              "  position: relative;\n",
              "}\n",
              "\n",
              "#sk-container-id-1 div.sk-parallel-item {\n",
              "  display: flex;\n",
              "  flex-direction: column;\n",
              "}\n",
              "\n",
              "#sk-container-id-1 div.sk-parallel-item:first-child::after {\n",
              "  align-self: flex-end;\n",
              "  width: 50%;\n",
              "}\n",
              "\n",
              "#sk-container-id-1 div.sk-parallel-item:last-child::after {\n",
              "  align-self: flex-start;\n",
              "  width: 50%;\n",
              "}\n",
              "\n",
              "#sk-container-id-1 div.sk-parallel-item:only-child::after {\n",
              "  width: 0;\n",
              "}\n",
              "\n",
              "/* Serial-specific style estimator block */\n",
              "\n",
              "#sk-container-id-1 div.sk-serial {\n",
              "  display: flex;\n",
              "  flex-direction: column;\n",
              "  align-items: center;\n",
              "  background-color: var(--sklearn-color-background);\n",
              "  padding-right: 1em;\n",
              "  padding-left: 1em;\n",
              "}\n",
              "\n",
              "\n",
              "/* Toggleable style: style used for estimator/Pipeline/ColumnTransformer box that is\n",
              "clickable and can be expanded/collapsed.\n",
              "- Pipeline and ColumnTransformer use this feature and define the default style\n",
              "- Estimators will overwrite some part of the style using the `sk-estimator` class\n",
              "*/\n",
              "\n",
              "/* Pipeline and ColumnTransformer style (default) */\n",
              "\n",
              "#sk-container-id-1 div.sk-toggleable {\n",
              "  /* Default theme specific background. It is overwritten whether we have a\n",
              "  specific estimator or a Pipeline/ColumnTransformer */\n",
              "  background-color: var(--sklearn-color-background);\n",
              "}\n",
              "\n",
              "/* Toggleable label */\n",
              "#sk-container-id-1 label.sk-toggleable__label {\n",
              "  cursor: pointer;\n",
              "  display: block;\n",
              "  width: 100%;\n",
              "  margin-bottom: 0;\n",
              "  padding: 0.5em;\n",
              "  box-sizing: border-box;\n",
              "  text-align: center;\n",
              "}\n",
              "\n",
              "#sk-container-id-1 label.sk-toggleable__label-arrow:before {\n",
              "  /* Arrow on the left of the label */\n",
              "  content: \"▸\";\n",
              "  float: left;\n",
              "  margin-right: 0.25em;\n",
              "  color: var(--sklearn-color-icon);\n",
              "}\n",
              "\n",
              "#sk-container-id-1 label.sk-toggleable__label-arrow:hover:before {\n",
              "  color: var(--sklearn-color-text);\n",
              "}\n",
              "\n",
              "/* Toggleable content - dropdown */\n",
              "\n",
              "#sk-container-id-1 div.sk-toggleable__content {\n",
              "  max-height: 0;\n",
              "  max-width: 0;\n",
              "  overflow: hidden;\n",
              "  text-align: left;\n",
              "  /* unfitted */\n",
              "  background-color: var(--sklearn-color-unfitted-level-0);\n",
              "}\n",
              "\n",
              "#sk-container-id-1 div.sk-toggleable__content.fitted {\n",
              "  /* fitted */\n",
              "  background-color: var(--sklearn-color-fitted-level-0);\n",
              "}\n",
              "\n",
              "#sk-container-id-1 div.sk-toggleable__content pre {\n",
              "  margin: 0.2em;\n",
              "  border-radius: 0.25em;\n",
              "  color: var(--sklearn-color-text);\n",
              "  /* unfitted */\n",
              "  background-color: var(--sklearn-color-unfitted-level-0);\n",
              "}\n",
              "\n",
              "#sk-container-id-1 div.sk-toggleable__content.fitted pre {\n",
              "  /* unfitted */\n",
              "  background-color: var(--sklearn-color-fitted-level-0);\n",
              "}\n",
              "\n",
              "#sk-container-id-1 input.sk-toggleable__control:checked~div.sk-toggleable__content {\n",
              "  /* Expand drop-down */\n",
              "  max-height: 200px;\n",
              "  max-width: 100%;\n",
              "  overflow: auto;\n",
              "}\n",
              "\n",
              "#sk-container-id-1 input.sk-toggleable__control:checked~label.sk-toggleable__label-arrow:before {\n",
              "  content: \"▾\";\n",
              "}\n",
              "\n",
              "/* Pipeline/ColumnTransformer-specific style */\n",
              "\n",
              "#sk-container-id-1 div.sk-label input.sk-toggleable__control:checked~label.sk-toggleable__label {\n",
              "  color: var(--sklearn-color-text);\n",
              "  background-color: var(--sklearn-color-unfitted-level-2);\n",
              "}\n",
              "\n",
              "#sk-container-id-1 div.sk-label.fitted input.sk-toggleable__control:checked~label.sk-toggleable__label {\n",
              "  background-color: var(--sklearn-color-fitted-level-2);\n",
              "}\n",
              "\n",
              "/* Estimator-specific style */\n",
              "\n",
              "/* Colorize estimator box */\n",
              "#sk-container-id-1 div.sk-estimator input.sk-toggleable__control:checked~label.sk-toggleable__label {\n",
              "  /* unfitted */\n",
              "  background-color: var(--sklearn-color-unfitted-level-2);\n",
              "}\n",
              "\n",
              "#sk-container-id-1 div.sk-estimator.fitted input.sk-toggleable__control:checked~label.sk-toggleable__label {\n",
              "  /* fitted */\n",
              "  background-color: var(--sklearn-color-fitted-level-2);\n",
              "}\n",
              "\n",
              "#sk-container-id-1 div.sk-label label.sk-toggleable__label,\n",
              "#sk-container-id-1 div.sk-label label {\n",
              "  /* The background is the default theme color */\n",
              "  color: var(--sklearn-color-text-on-default-background);\n",
              "}\n",
              "\n",
              "/* On hover, darken the color of the background */\n",
              "#sk-container-id-1 div.sk-label:hover label.sk-toggleable__label {\n",
              "  color: var(--sklearn-color-text);\n",
              "  background-color: var(--sklearn-color-unfitted-level-2);\n",
              "}\n",
              "\n",
              "/* Label box, darken color on hover, fitted */\n",
              "#sk-container-id-1 div.sk-label.fitted:hover label.sk-toggleable__label.fitted {\n",
              "  color: var(--sklearn-color-text);\n",
              "  background-color: var(--sklearn-color-fitted-level-2);\n",
              "}\n",
              "\n",
              "/* Estimator label */\n",
              "\n",
              "#sk-container-id-1 div.sk-label label {\n",
              "  font-family: monospace;\n",
              "  font-weight: bold;\n",
              "  display: inline-block;\n",
              "  line-height: 1.2em;\n",
              "}\n",
              "\n",
              "#sk-container-id-1 div.sk-label-container {\n",
              "  text-align: center;\n",
              "}\n",
              "\n",
              "/* Estimator-specific */\n",
              "#sk-container-id-1 div.sk-estimator {\n",
              "  font-family: monospace;\n",
              "  border: 1px dotted var(--sklearn-color-border-box);\n",
              "  border-radius: 0.25em;\n",
              "  box-sizing: border-box;\n",
              "  margin-bottom: 0.5em;\n",
              "  /* unfitted */\n",
              "  background-color: var(--sklearn-color-unfitted-level-0);\n",
              "}\n",
              "\n",
              "#sk-container-id-1 div.sk-estimator.fitted {\n",
              "  /* fitted */\n",
              "  background-color: var(--sklearn-color-fitted-level-0);\n",
              "}\n",
              "\n",
              "/* on hover */\n",
              "#sk-container-id-1 div.sk-estimator:hover {\n",
              "  /* unfitted */\n",
              "  background-color: var(--sklearn-color-unfitted-level-2);\n",
              "}\n",
              "\n",
              "#sk-container-id-1 div.sk-estimator.fitted:hover {\n",
              "  /* fitted */\n",
              "  background-color: var(--sklearn-color-fitted-level-2);\n",
              "}\n",
              "\n",
              "/* Specification for estimator info (e.g. \"i\" and \"?\") */\n",
              "\n",
              "/* Common style for \"i\" and \"?\" */\n",
              "\n",
              ".sk-estimator-doc-link,\n",
              "a:link.sk-estimator-doc-link,\n",
              "a:visited.sk-estimator-doc-link {\n",
              "  float: right;\n",
              "  font-size: smaller;\n",
              "  line-height: 1em;\n",
              "  font-family: monospace;\n",
              "  background-color: var(--sklearn-color-background);\n",
              "  border-radius: 1em;\n",
              "  height: 1em;\n",
              "  width: 1em;\n",
              "  text-decoration: none !important;\n",
              "  margin-left: 1ex;\n",
              "  /* unfitted */\n",
              "  border: var(--sklearn-color-unfitted-level-1) 1pt solid;\n",
              "  color: var(--sklearn-color-unfitted-level-1);\n",
              "}\n",
              "\n",
              ".sk-estimator-doc-link.fitted,\n",
              "a:link.sk-estimator-doc-link.fitted,\n",
              "a:visited.sk-estimator-doc-link.fitted {\n",
              "  /* fitted */\n",
              "  border: var(--sklearn-color-fitted-level-1) 1pt solid;\n",
              "  color: var(--sklearn-color-fitted-level-1);\n",
              "}\n",
              "\n",
              "/* On hover */\n",
              "div.sk-estimator:hover .sk-estimator-doc-link:hover,\n",
              ".sk-estimator-doc-link:hover,\n",
              "div.sk-label-container:hover .sk-estimator-doc-link:hover,\n",
              ".sk-estimator-doc-link:hover {\n",
              "  /* unfitted */\n",
              "  background-color: var(--sklearn-color-unfitted-level-3);\n",
              "  color: var(--sklearn-color-background);\n",
              "  text-decoration: none;\n",
              "}\n",
              "\n",
              "div.sk-estimator.fitted:hover .sk-estimator-doc-link.fitted:hover,\n",
              ".sk-estimator-doc-link.fitted:hover,\n",
              "div.sk-label-container:hover .sk-estimator-doc-link.fitted:hover,\n",
              ".sk-estimator-doc-link.fitted:hover {\n",
              "  /* fitted */\n",
              "  background-color: var(--sklearn-color-fitted-level-3);\n",
              "  color: var(--sklearn-color-background);\n",
              "  text-decoration: none;\n",
              "}\n",
              "\n",
              "/* Span, style for the box shown on hovering the info icon */\n",
              ".sk-estimator-doc-link span {\n",
              "  display: none;\n",
              "  z-index: 9999;\n",
              "  position: relative;\n",
              "  font-weight: normal;\n",
              "  right: .2ex;\n",
              "  padding: .5ex;\n",
              "  margin: .5ex;\n",
              "  width: min-content;\n",
              "  min-width: 20ex;\n",
              "  max-width: 50ex;\n",
              "  color: var(--sklearn-color-text);\n",
              "  box-shadow: 2pt 2pt 4pt #999;\n",
              "  /* unfitted */\n",
              "  background: var(--sklearn-color-unfitted-level-0);\n",
              "  border: .5pt solid var(--sklearn-color-unfitted-level-3);\n",
              "}\n",
              "\n",
              ".sk-estimator-doc-link.fitted span {\n",
              "  /* fitted */\n",
              "  background: var(--sklearn-color-fitted-level-0);\n",
              "  border: var(--sklearn-color-fitted-level-3);\n",
              "}\n",
              "\n",
              ".sk-estimator-doc-link:hover span {\n",
              "  display: block;\n",
              "}\n",
              "\n",
              "/* \"?\"-specific style due to the `<a>` HTML tag */\n",
              "\n",
              "#sk-container-id-1 a.estimator_doc_link {\n",
              "  float: right;\n",
              "  font-size: 1rem;\n",
              "  line-height: 1em;\n",
              "  font-family: monospace;\n",
              "  background-color: var(--sklearn-color-background);\n",
              "  border-radius: 1rem;\n",
              "  height: 1rem;\n",
              "  width: 1rem;\n",
              "  text-decoration: none;\n",
              "  /* unfitted */\n",
              "  color: var(--sklearn-color-unfitted-level-1);\n",
              "  border: var(--sklearn-color-unfitted-level-1) 1pt solid;\n",
              "}\n",
              "\n",
              "#sk-container-id-1 a.estimator_doc_link.fitted {\n",
              "  /* fitted */\n",
              "  border: var(--sklearn-color-fitted-level-1) 1pt solid;\n",
              "  color: var(--sklearn-color-fitted-level-1);\n",
              "}\n",
              "\n",
              "/* On hover */\n",
              "#sk-container-id-1 a.estimator_doc_link:hover {\n",
              "  /* unfitted */\n",
              "  background-color: var(--sklearn-color-unfitted-level-3);\n",
              "  color: var(--sklearn-color-background);\n",
              "  text-decoration: none;\n",
              "}\n",
              "\n",
              "#sk-container-id-1 a.estimator_doc_link.fitted:hover {\n",
              "  /* fitted */\n",
              "  background-color: var(--sklearn-color-fitted-level-3);\n",
              "}\n",
              "</style><div id=\"sk-container-id-1\" class=\"sk-top-container\"><div class=\"sk-text-repr-fallback\"><pre>Pipeline(steps=[(&#x27;step1&#x27;,\n",
              "                 ColumnTransformer(remainder=&#x27;passthrough&#x27;,\n",
              "                                   transformers=[(&#x27;trf&#x27;,\n",
              "                                                  OneHotEncoder(drop=&#x27;first&#x27;,\n",
              "                                                                sparse_output=False),\n",
              "                                                  [&#x27;batting_team&#x27;,\n",
              "                                                   &#x27;bowling_team&#x27;, &#x27;city&#x27;])])),\n",
              "                (&#x27;step2&#x27;, LogisticRegression(solver=&#x27;liblinear&#x27;))])</pre><b>In a Jupyter environment, please rerun this cell to show the HTML representation or trust the notebook. <br />On GitHub, the HTML representation is unable to render, please try loading this page with nbviewer.org.</b></div><div class=\"sk-container\" hidden><div class=\"sk-item sk-dashed-wrapped\"><div class=\"sk-label-container\"><div class=\"sk-label fitted sk-toggleable\"><input class=\"sk-toggleable__control sk-hidden--visually\" id=\"sk-estimator-id-1\" type=\"checkbox\" ><label for=\"sk-estimator-id-1\" class=\"sk-toggleable__label fitted sk-toggleable__label-arrow fitted\">&nbsp;&nbsp;Pipeline<a class=\"sk-estimator-doc-link fitted\" rel=\"noreferrer\" target=\"_blank\" href=\"https://scikit-learn.org/1.5/modules/generated/sklearn.pipeline.Pipeline.html\">?<span>Documentation for Pipeline</span></a><span class=\"sk-estimator-doc-link fitted\">i<span>Fitted</span></span></label><div class=\"sk-toggleable__content fitted\"><pre>Pipeline(steps=[(&#x27;step1&#x27;,\n",
              "                 ColumnTransformer(remainder=&#x27;passthrough&#x27;,\n",
              "                                   transformers=[(&#x27;trf&#x27;,\n",
              "                                                  OneHotEncoder(drop=&#x27;first&#x27;,\n",
              "                                                                sparse_output=False),\n",
              "                                                  [&#x27;batting_team&#x27;,\n",
              "                                                   &#x27;bowling_team&#x27;, &#x27;city&#x27;])])),\n",
              "                (&#x27;step2&#x27;, LogisticRegression(solver=&#x27;liblinear&#x27;))])</pre></div> </div></div><div class=\"sk-serial\"><div class=\"sk-item sk-dashed-wrapped\"><div class=\"sk-label-container\"><div class=\"sk-label fitted sk-toggleable\"><input class=\"sk-toggleable__control sk-hidden--visually\" id=\"sk-estimator-id-2\" type=\"checkbox\" ><label for=\"sk-estimator-id-2\" class=\"sk-toggleable__label fitted sk-toggleable__label-arrow fitted\">&nbsp;step1: ColumnTransformer<a class=\"sk-estimator-doc-link fitted\" rel=\"noreferrer\" target=\"_blank\" href=\"https://scikit-learn.org/1.5/modules/generated/sklearn.compose.ColumnTransformer.html\">?<span>Documentation for step1: ColumnTransformer</span></a></label><div class=\"sk-toggleable__content fitted\"><pre>ColumnTransformer(remainder=&#x27;passthrough&#x27;,\n",
              "                  transformers=[(&#x27;trf&#x27;,\n",
              "                                 OneHotEncoder(drop=&#x27;first&#x27;,\n",
              "                                               sparse_output=False),\n",
              "                                 [&#x27;batting_team&#x27;, &#x27;bowling_team&#x27;, &#x27;city&#x27;])])</pre></div> </div></div><div class=\"sk-parallel\"><div class=\"sk-parallel-item\"><div class=\"sk-item\"><div class=\"sk-label-container\"><div class=\"sk-label fitted sk-toggleable\"><input class=\"sk-toggleable__control sk-hidden--visually\" id=\"sk-estimator-id-3\" type=\"checkbox\" ><label for=\"sk-estimator-id-3\" class=\"sk-toggleable__label fitted sk-toggleable__label-arrow fitted\">trf</label><div class=\"sk-toggleable__content fitted\"><pre>[&#x27;batting_team&#x27;, &#x27;bowling_team&#x27;, &#x27;city&#x27;]</pre></div> </div></div><div class=\"sk-serial\"><div class=\"sk-item\"><div class=\"sk-estimator fitted sk-toggleable\"><input class=\"sk-toggleable__control sk-hidden--visually\" id=\"sk-estimator-id-4\" type=\"checkbox\" ><label for=\"sk-estimator-id-4\" class=\"sk-toggleable__label fitted sk-toggleable__label-arrow fitted\">&nbsp;OneHotEncoder<a class=\"sk-estimator-doc-link fitted\" rel=\"noreferrer\" target=\"_blank\" href=\"https://scikit-learn.org/1.5/modules/generated/sklearn.preprocessing.OneHotEncoder.html\">?<span>Documentation for OneHotEncoder</span></a></label><div class=\"sk-toggleable__content fitted\"><pre>OneHotEncoder(drop=&#x27;first&#x27;, sparse_output=False)</pre></div> </div></div></div></div></div><div class=\"sk-parallel-item\"><div class=\"sk-item\"><div class=\"sk-label-container\"><div class=\"sk-label fitted sk-toggleable\"><input class=\"sk-toggleable__control sk-hidden--visually\" id=\"sk-estimator-id-5\" type=\"checkbox\" ><label for=\"sk-estimator-id-5\" class=\"sk-toggleable__label fitted sk-toggleable__label-arrow fitted\">remainder</label><div class=\"sk-toggleable__content fitted\"><pre>[&#x27;runs_left&#x27;, &#x27;balls_left&#x27;, &#x27;wickets&#x27;, &#x27;total_runs_x&#x27;, &#x27;crr&#x27;, &#x27;rrr&#x27;]</pre></div> </div></div><div class=\"sk-serial\"><div class=\"sk-item\"><div class=\"sk-estimator fitted sk-toggleable\"><input class=\"sk-toggleable__control sk-hidden--visually\" id=\"sk-estimator-id-6\" type=\"checkbox\" ><label for=\"sk-estimator-id-6\" class=\"sk-toggleable__label fitted sk-toggleable__label-arrow fitted\">passthrough</label><div class=\"sk-toggleable__content fitted\"><pre>passthrough</pre></div> </div></div></div></div></div></div></div><div class=\"sk-item\"><div class=\"sk-estimator fitted sk-toggleable\"><input class=\"sk-toggleable__control sk-hidden--visually\" id=\"sk-estimator-id-7\" type=\"checkbox\" ><label for=\"sk-estimator-id-7\" class=\"sk-toggleable__label fitted sk-toggleable__label-arrow fitted\">&nbsp;LogisticRegression<a class=\"sk-estimator-doc-link fitted\" rel=\"noreferrer\" target=\"_blank\" href=\"https://scikit-learn.org/1.5/modules/generated/sklearn.linear_model.LogisticRegression.html\">?<span>Documentation for LogisticRegression</span></a></label><div class=\"sk-toggleable__content fitted\"><pre>LogisticRegression(solver=&#x27;liblinear&#x27;)</pre></div> </div></div></div></div></div></div>"
            ],
            "text/plain": [
              "Pipeline(steps=[('step1',\n",
              "                 ColumnTransformer(remainder='passthrough',\n",
              "                                   transformers=[('trf',\n",
              "                                                  OneHotEncoder(drop='first',\n",
              "                                                                sparse_output=False),\n",
              "                                                  ['batting_team',\n",
              "                                                   'bowling_team', 'city'])])),\n",
              "                ('step2', LogisticRegression(solver='liblinear'))])"
            ]
          },
          "execution_count": 66,
          "metadata": {},
          "output_type": "execute_result"
        }
      ],
      "source": [
        "pipe.fit(x_train,y_train)"
      ]
    },
    {
      "cell_type": "code",
      "execution_count": 67,
      "metadata": {
        "id": "y5bKbKB87aZu"
      },
      "outputs": [],
      "source": [
        "y_pred=pipe.predict(x_test)"
      ]
    },
    {
      "cell_type": "code",
      "execution_count": 68,
      "metadata": {
        "colab": {
          "base_uri": "https://localhost:8080/"
        },
        "id": "oMRkX7jV7y6t",
        "outputId": "8c82dce9-c18c-4258-8299-18ea73a92713"
      },
      "outputs": [
        {
          "data": {
            "text/plain": [
              "0.8177496038034865"
            ]
          },
          "execution_count": 68,
          "metadata": {},
          "output_type": "execute_result"
        }
      ],
      "source": [
        "from sklearn.metrics import accuracy_score\n",
        "accuracy_score(y_test,y_pred)"
      ]
    },
    {
      "cell_type": "code",
      "execution_count": 69,
      "metadata": {
        "id": "ig8auHXp8oZ-"
      },
      "outputs": [],
      "source": [
        "# pipe.predict_proba(x_test)[10]"
      ]
    },
    {
      "cell_type": "markdown",
      "metadata": {
        "id": "nEFR-RCa9PYc"
      },
      "source": [
        "city and team name for our app"
      ]
    },
    {
      "cell_type": "code",
      "execution_count": 70,
      "metadata": {
        "colab": {
          "base_uri": "https://localhost:8080/"
        },
        "id": "3LZ2mXO49fpe",
        "outputId": "b5aa801e-27be-4f67-be88-bfb104d139bf"
      },
      "outputs": [
        {
          "data": {
            "text/plain": [
              "array(['Royal Challengers Bangalore', 'Chennai Super Kings',\n",
              "       'Kolkata Knight Riders', 'Sunrisers Hyderabad', 'Delhi Capitals',\n",
              "       'Lucknow Super Giants', 'Rajasthan Royals', 'Mumbai Indians',\n",
              "       'Punjab Kings', 'Gujarat Titans'], dtype=object)"
            ]
          },
          "execution_count": 70,
          "metadata": {},
          "output_type": "execute_result"
        }
      ],
      "source": [
        "final_df['batting_team'].unique()"
      ]
    },
    {
      "cell_type": "code",
      "execution_count": 71,
      "metadata": {
        "colab": {
          "base_uri": "https://localhost:8080/"
        },
        "id": "AlXtD_4w98m4",
        "outputId": "a193537a-1378-4e7f-d781-5af9b27890a6"
      },
      "outputs": [
        {
          "data": {
            "text/plain": [
              "array(['Chandigarh', 'Delhi', 'Mumbai', 'Raipur', 'Lucknow', 'Bangalore',\n",
              "       'Kolkata', 'Hyderabad', 'Port Elizabeth', 'Pune', 'Jaipur',\n",
              "       'East London', 'Ahmedabad', 'Durban', 'Sharjah', 'Dubai', 'Indore',\n",
              "       'Chennai', 'Abu Dhabi', 'Dharamsala', 'Centurion', 'Visakhapatnam',\n",
              "       'Cuttack', 'Ranchi', 'Kimberley', 'Bloemfontein', 'Guwahati',\n",
              "       'Nagpur', 'Johannesburg', 'Cape Town'], dtype=object)"
            ]
          },
          "execution_count": 71,
          "metadata": {},
          "output_type": "execute_result"
        }
      ],
      "source": [
        "final_df['city'].unique()"
      ]
    },
    {
      "cell_type": "code",
      "execution_count": 73,
      "metadata": {
        "id": "nAd56ZLj_A_W"
      },
      "outputs": [],
      "source": [
        "import pickle\n",
        "pickle.dump(pipe,open('pipe.pkl','wb'))"
      ]
    }
  ],
  "metadata": {
    "colab": {
      "provenance": []
    },
    "kernelspec": {
      "display_name": "Python 3",
      "name": "python3"
    },
    "language_info": {
      "codemirror_mode": {
        "name": "ipython",
        "version": 3
      },
      "file_extension": ".py",
      "mimetype": "text/x-python",
      "name": "python",
      "nbconvert_exporter": "python",
      "pygments_lexer": "ipython3",
      "version": "3.11.4"
    }
  },
  "nbformat": 4,
  "nbformat_minor": 0
}
